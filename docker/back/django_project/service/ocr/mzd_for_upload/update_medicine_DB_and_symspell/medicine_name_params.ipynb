{
 "cells": [
  {
   "cell_type": "code",
   "execution_count": 1,
   "metadata": {},
   "outputs": [
    {
     "name": "stdout",
     "output_type": "stream",
     "text": [
      "loading hospital symspell...\n",
      "loading med symspells...\n",
      "loading medicine DB...\n"
     ]
    }
   ],
   "source": [
    "import pandas as pd\n",
    "import jaconv\n",
    "import re\n",
    "import pickle\n",
    "import os\n",
    "\n",
    "os.chdir('/home/yukim/Desktop/prescription')\n",
    "import vision1 as v1\n",
    "\n",
    "os.chdir('/home/yukim/Desktop/prescription/notebook_and_rawData')\n",
    "from get_symspell_obj import get_symspell_obj"
   ]
  },
  {
   "cell_type": "code",
   "execution_count": 2,
   "metadata": {},
   "outputs": [],
   "source": [
    "import itertools\n",
    "from tqdm.notebook import tqdm_notebook as tqdm\n",
    "import sys\n",
    "import datetime as dt"
   ]
  },
  {
   "cell_type": "markdown",
   "metadata": {},
   "source": [
    "### param組み合わせの生成"
   ]
  },
  {
   "cell_type": "code",
   "execution_count": 3,
   "metadata": {},
   "outputs": [],
   "source": [
    "#params: valの最小と最大、symspellのmax_edit_distance_dictionary,prefix_length, 入れる文字列, の計5つ"
   ]
  },
  {
   "cell_type": "code",
   "execution_count": 4,
   "metadata": {},
   "outputs": [],
   "source": [
    "l_input_data = ['sample'+str(i)+'_med.txt' for i in range(1,7)]\n",
    "l_input_data.append('PHC_sample_med.txt')\n",
    "l_max_edit_distance_dictionary = list(range(1,8))\n",
    "l_prefix = list(range(3,13))\n",
    "l_val_len_min = list(range(3,7))\n",
    "l_val_len_max = list(range(22,28))\n",
    "l_max_edit_distance_lookup = list(range(1,8))"
   ]
  },
  {
   "cell_type": "code",
   "execution_count": 5,
   "metadata": {},
   "outputs": [
    {
     "data": {
      "text/plain": [
       "['sample1_med.txt',\n",
       " 'sample2_med.txt',\n",
       " 'sample3_med.txt',\n",
       " 'sample4_med.txt',\n",
       " 'sample5_med.txt',\n",
       " 'sample6_med.txt',\n",
       " 'PHC_sample_med.txt']"
      ]
     },
     "execution_count": 5,
     "metadata": {},
     "output_type": "execute_result"
    }
   ],
   "source": [
    "l_input_data"
   ]
  },
  {
   "cell_type": "markdown",
   "metadata": {},
   "source": [
    "### 事前学習session"
   ]
  },
  {
   "cell_type": "code",
   "execution_count": 7,
   "metadata": {},
   "outputs": [
    {
     "data": {
      "application/vnd.jupyter.widget-view+json": {
       "model_id": "14c16fe5bf9547ff8668c54f882782ea",
       "version_major": 2,
       "version_minor": 0
      },
      "text/plain": [
       "HBox(children=(FloatProgress(value=0.0, max=7.0), HTML(value='')))"
      ]
     },
     "metadata": {},
     "output_type": "display_data"
    },
    {
     "name": "stdout",
     "output_type": "stream",
     "text": [
      "\n"
     ]
    }
   ],
   "source": [
    "sys.exit()\n",
    "\n",
    "#事前にsymspellで作成したい医薬品名称辞書を学習\n",
    "os.chdir('/home/yukim/Desktop/symspell_local/medicine')\n",
    "\n",
    "l = v1.df_medicineInfo['品名'].values.tolist()\n",
    "\n",
    "for max_ed_dict in tqdm(l_max_edit_distance_dictionary):\n",
    "    for prefix in l_prefix:\n",
    "        try:\n",
    "            sym_spell_med = get_symspell_obj(max_ed_dict,prefix,l)\n",
    "            with open('medicine'+str(max_ed_dict)+'_'+str(prefix)+'.pickle', 'wb') as f:\n",
    "                pickle.dump(sym_spell_med, f)\n",
    "        except ValueError:\n",
    "            continue"
   ]
  },
  {
   "cell_type": "code",
   "execution_count": 11,
   "metadata": {},
   "outputs": [
    {
     "name": "stdout",
     "output_type": "stream",
     "text": [
      "medicine5_11.pickle 318088730\n",
      "medicine7_11.pickle 458877218\n",
      "medicine4_11.pickle 200496372\n",
      "medicine5_12.pickle 504728724\n",
      "medicine7_10.pickle 245983314\n",
      "medicine4_12.pickle 291855925\n",
      "medicine6_9.pickle 123957578\n",
      "medicine6_11.pickle 410170198\n",
      "medicine4_10.pickle 134552467\n",
      "medicine5_9.pickle 111965497\n",
      "medicine6_12.pickle 705051373\n",
      "medicine7_12.pickle 839351952\n",
      "medicine5_10.pickle 194555110\n",
      "medicine7_9.pickle 127611318\n",
      "medicine3_12.pickle 129369054\n",
      "medicine6_10.pickle 231526201\n"
     ]
    }
   ],
   "source": [
    "sys.exit()\n",
    "\n",
    "#medicine.txtをremove\n",
    "os.remove('medicine.txt')\n",
    "\n",
    "#sizeが100MB以上のファイルをremove\n",
    "sizeLimit = 100000000\n",
    "for file in os.listdir():\n",
    "    if os.path.getsize(file)>=sizeLimit:\n",
    "        print(file,os.path.getsize(file))\n",
    "        os.remove(file)"
   ]
  },
  {
   "cell_type": "markdown",
   "metadata": {},
   "source": [
    "### 単一paramsに対してのtest"
   ]
  },
  {
   "cell_type": "code",
   "execution_count": 12,
   "metadata": {},
   "outputs": [],
   "source": [
    "#parse_med_txt(_txt,_patient_GE_OK=True,_val_len_min=4,_val_len_max=27,_max_edit_distance_lookup=3,_sym_spell_med_long=sym_spell_med_long,_sym_spell_med_short=sym_spell_med_short):\n",
    "#return medi_list[:],medi_info.copy(),l_confidence[:],l_ge_switch_OK[:],l_base_val[:]"
   ]
  },
  {
   "cell_type": "code",
   "execution_count": 6,
   "metadata": {},
   "outputs": [
    {
     "name": "stdout",
     "output_type": "stream",
     "text": [
      "0:00:00.067512\n",
      "[['カルボシステイン錠500mg「ツルハラ」', 'カルボシステイン錠500mg「トーワ」', 'カルボシステイン錠500mg「サワイ」', 'カルボシステイン錠500mg「TCK」', 'カルボシステイン錠250mg「ツルハラ」', 'カルボシステイン錠500mg「テバ」', 'カルボシステイン錠500mg「JG」', 'カルボシステイン錠250mg「サワイ」', 'カルボシステイン錠250mg「トーワ」', 'カルボシステイン錠250mg「TCK」', 'カルボシステイン錠250mg「テバ」', 'カルボシステイン錠250mg「JG」', 'カルボシステイン錠500mg', 'カルボシステイン錠250mg'], ['アンブロキソール塩酸塩錠15mg「タイヨー」', 'アンブロキソール塩酸塩錠15mg「わかもと」', 'アンブロキソール塩酸塩錠15mg「ツルハラ」', 'アンブロキソール塩酸塩錠15mg「クニヒロ」', 'アンブロキソール塩酸塩錠15mg「サワイ」', 'アンブロキソール塩酸塩錠15mg「アメル」', 'アンブロキソール塩酸塩錠15mg「タカタ」', 'アンブロキソール塩酸塩錠15mg「TCK」', 'アンブロキソール塩酸塩錠15mg「CEO」', 'アンブロキソール塩酸塩錠15mg「トーワ」', 'アンブロキソール塩酸塩錠15mg「NPI」', 'アンブロキソール塩酸塩錠15mg「日医工」', 'アンブロキソール塩酸塩錠15mg「ZE」', 'アンブロキソール塩酸塩錠15mg「日新」', 'アンブロキソール塩酸塩錠15mg「KN」', 'アンブロキソール塩酸塩錠15mg「YD」', 'アンブロキソール塩酸塩錠15mg「NP」', 'アンブロキソール塩酸塩錠15mg「杏林」', 'アンブロキソール塩酸塩錠15mg「JG」', 'アンブロキソール塩酸塩錠15mg'], ['フスコデ配合錠'], ['セフカペンピボキシル塩酸塩錠75mg「ファイザー」', 'セフカペンピボキシル塩酸塩錠75mg「サワイ」', 'セフカペンピボキシル塩酸塩錠75mg「TCK」', 'セフカペンピボキシル塩酸塩錠75mg「トーワ」', 'セフカペンピボキシル塩酸塩錠75mg「日医工」', 'セフカペンピボキシル塩酸塩錠75mg「YD」', 'セフカペンピボキシル塩酸塩錠100mg「ファイザー」', 'セフカペンピボキシル塩酸塩錠75mg「CH」', 'セフカペンピボキシル塩酸塩錠100mg「サワイ」', 'セフカペンピボキシル塩酸塩錠100mg「TCK」', 'セフカペンピボキシル塩酸塩錠100mg「トーワ」', 'セフカペンピボキシル塩酸塩錠100mg「日医工」', 'セフカペンピボキシル塩酸塩錠100mg「YD」', 'セフカペンピボキシル塩酸塩錠100mg「CH」', 'セフカペンピボキシル塩酸塩錠75mg', 'セフカペンピボキシル塩酸塩錠100mg'], ['ニフェジピン徐放錠10mg(12時間持続)', 'ニフェジピン徐放錠20mg(12時間持続)', 'ニフェジピン徐放錠10mg(24時間持続)', 'ニフェジピン徐放錠40mg(24時間持続)', 'ニフェジピン徐放錠20mg(24時間持続)'], ['ケトプロフェンテープ20mg「ラクール」 7cm×10cm', 'ケトプロフェンテープ20mg「テイコク」 7cm×10cm', 'ケトプロフェンテープ20mg「日医工」 7cm×10cm', 'ケトプロフェンテープ20mg「パテル」 7cm×10cm', 'ケトプロフェンテープ20mg「トーワ」 7cm×10cm', 'ケトプロフェンテープ20mg「BMD」 7cm×10cm', 'ケトプロフェンテープ40mg「ラクール」 10cm×14cm', 'ケトプロフェンテープ20mg「三和」 7cm×10cm', 'ケトプロフェンテープ20mg「SN」 7cm×10cm', 'ケトプロフェンテープ20mg「東光」 7cm×10cm', 'ケトプロフェンテープ40mg「テイコク」 10cm×14cm', 'ケトプロフェンテープ20mg「杏林」 7cm×10cm', 'ケトプロフェンテープ40mg「日医工」 10cm×14cm', 'ケトプロフェンテープ40mg「パテル」 10cm×14cm', 'ケトプロフェンテープ40mg「BMD」 10cm×14cm', 'ケトプロフェンテープ40mg「トーワ」 10cm×14cm', 'ケトプロフェンテープ40mg「SN」 10cm×14cm', 'ケトプロフェンテープ40mg「東光」 10cm×14cm', 'ケトプロフェンテープ40mg「三和」 10cm×14cm', 'ケトプロフェンテープ40mg「杏林」 10cm×14cm', 'ケトプロフェンテープ20mg(7×10cm非温感)', 'ケトプロフェンテープ40mg(10×14cm非温感)']]\n"
     ]
    }
   ],
   "source": [
    "#input_ = 'sample1_med.txt'\n",
    "input_ = 'PHC_sample_med.txt'\n",
    "patient_GE_OK=True\n",
    "val_len_min,val_len_max,max_edit_distance_lookup = 5,30,1\n",
    "module_pickle_long,module_pickle_short = 'medicine7_8.pickle','medicine2_5.pickle'\n",
    "\n",
    "#txtデータの読み込み\n",
    "os.chdir(r'/home/yukim/Desktop/prescription/ym_development/sample_txt')\n",
    "f = open(input_)\n",
    "text = f.read()\n",
    "f.close()\n",
    "            \n",
    "os.chdir(r'/home/yukim/Desktop/symspell_local/medicine')\n",
    "with open(module_pickle_short, 'rb') as f:\n",
    "    sym_spell_med_short = pickle.load(f)\n",
    "with open(module_pickle_long, 'rb') as f:\n",
    "    sym_spell_med_long = pickle.load(f)\n",
    "\n",
    "time_s = dt.datetime.now()\n",
    "\n",
    "result=v1.parse_med_txt(text,patient_GE_OK,val_len_min,val_len_max,max_edit_distance_lookup,sym_spell_med_long,sym_spell_med_short)\n",
    "time_taken = dt.datetime.now() - time_s\n",
    "\n",
    "max_edit_dist_dict = module_pickle_long.split('_')[0][-1]\n",
    "prefix = module_pickle_long.split('_')[1][0]\n",
    "\n",
    "medi_list,medi_list_raw,medi_info,l_confidence,l_ge_switch_OK,l_base_val=result\n",
    "\n",
    "print(time_taken)\n",
    "print(medi_list_raw)"
   ]
  },
  {
   "cell_type": "markdown",
   "metadata": {},
   "source": [
    "### 性能検証session"
   ]
  },
  {
   "cell_type": "code",
   "execution_count": 22,
   "metadata": {},
   "outputs": [
    {
     "data": {
      "text/plain": [
       "(['sample1_med.txt', 'sample2_med.txt', 'sample3_med.txt', 'sample4_med.txt'],\n",
       " ['sample5_med.txt', 'sample6_med.txt', 'PHC_sample_med.txt'])"
      ]
     },
     "execution_count": 22,
     "metadata": {},
     "output_type": "execute_result"
    }
   ],
   "source": [
    "l_input_data[:4],l_input_data[4:]"
   ]
  },
  {
   "cell_type": "code",
   "execution_count": 23,
   "metadata": {},
   "outputs": [
    {
     "data": {
      "application/vnd.jupyter.widget-view+json": {
       "model_id": "13cb3c59444a4231a407140ac3ef87fb",
       "version_major": 2,
       "version_minor": 0
      },
      "text/plain": [
       "HBox(children=(FloatProgress(value=0.0, max=4.0), HTML(value='')))"
      ]
     },
     "metadata": {},
     "output_type": "display_data"
    },
    {
     "data": {
      "application/vnd.jupyter.widget-view+json": {
       "model_id": "181947daba7642b9bc456e13962d524d",
       "version_major": 2,
       "version_minor": 0
      },
      "text/plain": [
       "HBox(children=(FloatProgress(value=0.0, max=39.0), HTML(value='')))"
      ]
     },
     "metadata": {},
     "output_type": "display_data"
    },
    {
     "name": "stdout",
     "output_type": "stream",
     "text": [
      "\n"
     ]
    },
    {
     "data": {
      "application/vnd.jupyter.widget-view+json": {
       "model_id": "decf5f5c1f6d4273ac26d49a4ef32b3e",
       "version_major": 2,
       "version_minor": 0
      },
      "text/plain": [
       "HBox(children=(FloatProgress(value=0.0, max=39.0), HTML(value='')))"
      ]
     },
     "metadata": {},
     "output_type": "display_data"
    },
    {
     "name": "stdout",
     "output_type": "stream",
     "text": [
      "\n"
     ]
    },
    {
     "data": {
      "application/vnd.jupyter.widget-view+json": {
       "model_id": "921345e7e1094573bc43af685ee61be1",
       "version_major": 2,
       "version_minor": 0
      },
      "text/plain": [
       "HBox(children=(FloatProgress(value=0.0, max=39.0), HTML(value='')))"
      ]
     },
     "metadata": {},
     "output_type": "display_data"
    },
    {
     "name": "stdout",
     "output_type": "stream",
     "text": [
      "\n"
     ]
    },
    {
     "data": {
      "application/vnd.jupyter.widget-view+json": {
       "model_id": "85e282e1296e438f83f8925391d4653a",
       "version_major": 2,
       "version_minor": 0
      },
      "text/plain": [
       "HBox(children=(FloatProgress(value=0.0, max=39.0), HTML(value='')))"
      ]
     },
     "metadata": {},
     "output_type": "display_data"
    },
    {
     "name": "stdout",
     "output_type": "stream",
     "text": [
      "\n",
      "\n"
     ]
    }
   ],
   "source": [
    "#sys.exit()\n",
    "\n",
    "module_pickle_short = 'medicine1_5.pickle'\n",
    "\n",
    "os.chdir(r'/home/yukim/Desktop/symspell_local/medicine')\n",
    "with open(module_pickle_short, 'rb') as f:\n",
    "    sym_spell_med_short = pickle.load(f)\n",
    "\n",
    "for input_ in tqdm(l_input_data[:4]):\n",
    "    \n",
    "    l_result = []\n",
    "    \n",
    "    #txtデータの読み込み\n",
    "    os.chdir(r'/home/yukim/Desktop/prescription/ym_development/sample_txt')\n",
    "    try:\n",
    "        f = open(input_)\n",
    "        text = f.read()\n",
    "        f.close()\n",
    "    except FileNotFoundError:\n",
    "        continue\n",
    "    \n",
    "    os.chdir(r'/home/yukim/Desktop/symspell_local/medicine')\n",
    "    l_modules_pickle = os.listdir()\n",
    "    \n",
    "    for module_pickle_long in tqdm(l_modules_pickle):\n",
    "        \n",
    "        with open(module_pickle_long, 'rb') as f:\n",
    "            sym_spell_med_long = pickle.load(f)\n",
    "        \n",
    "        for val_len_min,val_len_max,max_edit_distance_lookup in itertools.product(l_val_len_min,l_val_len_max,l_max_edit_distance_lookup):\n",
    "            #医薬品文字パース実施\n",
    "            \n",
    "            try:\n",
    "                time_s = dt.datetime.now()\n",
    "                result=v1.parse_med_txt(text,patient_GE_OK,val_len_min,val_len_max,max_edit_distance_lookup,sym_spell_med_long,sym_spell_med_short)\n",
    "                medi_list,medi_list_raw,medi_info,l_confidence,l_ge_switch_OK,l_base_val=result\n",
    "                time_taken = dt.datetime.now() - time_s\n",
    "            except ValueError:\n",
    "                continue\n",
    "            \n",
    "            max_edit_dist_dict,prefix = int(module_pickle_long.split('_')[0][-1]),int(module_pickle_long.split('_')[1].split('.')[0])\n",
    "            \n",
    "            l_result.append([input_,max_edit_dist_dict,prefix,val_len_min,val_len_max,max_edit_distance_lookup,medi_list_raw,l_base_val,time_taken.total_seconds()])\n",
    "            \n",
    "            #if len(result[-1])>0:\n",
    "            #    print('working',module_pickle_long)\n",
    "            #    sys.exit()\n",
    "\n",
    "            \n",
    "    os.chdir('/home/yukim/Desktop/symspell_local/results')\n",
    "    with open('l_result_'+input_+'.pickle', 'wb') as f:\n",
    "        pickle.dump(l_result, f)"
   ]
  },
  {
   "cell_type": "code",
   "execution_count": 7,
   "metadata": {},
   "outputs": [
    {
     "data": {
      "application/vnd.jupyter.widget-view+json": {
       "model_id": "b5616cac67e3406aa4bb3ffa82e5619c",
       "version_major": 2,
       "version_minor": 0
      },
      "text/plain": [
       "HBox(children=(FloatProgress(value=0.0, max=7.0), HTML(value='')))"
      ]
     },
     "metadata": {},
     "output_type": "display_data"
    },
    {
     "data": {
      "application/vnd.jupyter.widget-view+json": {
       "model_id": "8c051f2539134bcab99be2c7c6af25e6",
       "version_major": 2,
       "version_minor": 0
      },
      "text/plain": [
       "HBox(children=(FloatProgress(value=0.0, max=2592.0), HTML(value='')))"
      ]
     },
     "metadata": {},
     "output_type": "display_data"
    },
    {
     "name": "stdout",
     "output_type": "stream",
     "text": [
      "\n"
     ]
    },
    {
     "data": {
      "application/vnd.jupyter.widget-view+json": {
       "model_id": "080b366c63084457bd633df80b65f925",
       "version_major": 2,
       "version_minor": 0
      },
      "text/plain": [
       "HBox(children=(FloatProgress(value=0.0, max=2592.0), HTML(value='')))"
      ]
     },
     "metadata": {},
     "output_type": "display_data"
    },
    {
     "name": "stdout",
     "output_type": "stream",
     "text": [
      "\n"
     ]
    },
    {
     "data": {
      "application/vnd.jupyter.widget-view+json": {
       "model_id": "32e41bd60ac04439bf60827045095d33",
       "version_major": 2,
       "version_minor": 0
      },
      "text/plain": [
       "HBox(children=(FloatProgress(value=0.0, max=2592.0), HTML(value='')))"
      ]
     },
     "metadata": {},
     "output_type": "display_data"
    },
    {
     "name": "stdout",
     "output_type": "stream",
     "text": [
      "\n"
     ]
    },
    {
     "data": {
      "application/vnd.jupyter.widget-view+json": {
       "model_id": "9390a0e6c8304f22a15e82c9067fd93c",
       "version_major": 2,
       "version_minor": 0
      },
      "text/plain": [
       "HBox(children=(FloatProgress(value=0.0, max=2592.0), HTML(value='')))"
      ]
     },
     "metadata": {},
     "output_type": "display_data"
    },
    {
     "name": "stdout",
     "output_type": "stream",
     "text": [
      "\n"
     ]
    },
    {
     "data": {
      "application/vnd.jupyter.widget-view+json": {
       "model_id": "6747f2cec2a34b048d07bc9fc84a961d",
       "version_major": 2,
       "version_minor": 0
      },
      "text/plain": [
       "HBox(children=(FloatProgress(value=0.0, max=2592.0), HTML(value='')))"
      ]
     },
     "metadata": {},
     "output_type": "display_data"
    },
    {
     "name": "stdout",
     "output_type": "stream",
     "text": [
      "\n"
     ]
    },
    {
     "data": {
      "application/vnd.jupyter.widget-view+json": {
       "model_id": "01975cd6af8a493f9c05b2406bfe700b",
       "version_major": 2,
       "version_minor": 0
      },
      "text/plain": [
       "HBox(children=(FloatProgress(value=0.0, max=2592.0), HTML(value='')))"
      ]
     },
     "metadata": {},
     "output_type": "display_data"
    },
    {
     "name": "stdout",
     "output_type": "stream",
     "text": [
      "\n"
     ]
    },
    {
     "data": {
      "application/vnd.jupyter.widget-view+json": {
       "model_id": "ae61197fc9ce4e8abbaa061b184a917f",
       "version_major": 2,
       "version_minor": 0
      },
      "text/plain": [
       "HBox(children=(FloatProgress(value=0.0, max=2592.0), HTML(value='')))"
      ]
     },
     "metadata": {},
     "output_type": "display_data"
    },
    {
     "name": "stdout",
     "output_type": "stream",
     "text": [
      "\n",
      "\n"
     ]
    }
   ],
   "source": [
    "df_result = pd.DataFrame(columns=['input','max_edit_distance_dict','prefix','val_len_min','val_len_max','max_edit_distance_lookup','calced_vals','base_vals','time'])\n",
    "\n",
    "os.chdir('/home/yukim/Desktop/symspell_local/results')\n",
    "for input_ in tqdm(l_input_data):\n",
    "    with open('l_result_'+input_+'.pickle', 'rb') as f:\n",
    "        l_result = pickle.load(f)\n",
    "        \n",
    "    for val in tqdm(l_result):\n",
    "        df_result = df_result.append(pd.Series(val,index=df_result.columns,name=len(df_result)))\n",
    "        \n",
    "with open('df_result_full.pickle', 'wb') as f:\n",
    "    pickle.dump(df_result, f)"
   ]
  },
  {
   "cell_type": "code",
   "execution_count": 8,
   "metadata": {},
   "outputs": [
    {
     "data": {
      "text/html": [
       "<div>\n",
       "<style scoped>\n",
       "    .dataframe tbody tr th:only-of-type {\n",
       "        vertical-align: middle;\n",
       "    }\n",
       "\n",
       "    .dataframe tbody tr th {\n",
       "        vertical-align: top;\n",
       "    }\n",
       "\n",
       "    .dataframe thead th {\n",
       "        text-align: right;\n",
       "    }\n",
       "</style>\n",
       "<table border=\"1\" class=\"dataframe\">\n",
       "  <thead>\n",
       "    <tr style=\"text-align: right;\">\n",
       "      <th></th>\n",
       "      <th>input</th>\n",
       "      <th>max_edit_distance_dict</th>\n",
       "      <th>prefix</th>\n",
       "      <th>val_len_min</th>\n",
       "      <th>val_len_max</th>\n",
       "      <th>max_edit_distance_lookup</th>\n",
       "      <th>calced_vals</th>\n",
       "      <th>base_vals</th>\n",
       "      <th>time</th>\n",
       "    </tr>\n",
       "  </thead>\n",
       "  <tbody>\n",
       "    <tr>\n",
       "      <th>0</th>\n",
       "      <td>sample1_med.txt</td>\n",
       "      <td>1</td>\n",
       "      <td>11</td>\n",
       "      <td>3</td>\n",
       "      <td>22</td>\n",
       "      <td>1</td>\n",
       "      <td>[[イトラコナゾール錠50mg「科研」], [ルリコンクリーム1%], [ベギンクリーム20...</td>\n",
       "      <td>[イトラコナゾール錠50mg「科研, ルリコンクリーム1%, ベキンクリーム20%, ベピオ...</td>\n",
       "      <td>0.026252</td>\n",
       "    </tr>\n",
       "    <tr>\n",
       "      <th>1</th>\n",
       "      <td>sample1_med.txt</td>\n",
       "      <td>1</td>\n",
       "      <td>11</td>\n",
       "      <td>3</td>\n",
       "      <td>23</td>\n",
       "      <td>1</td>\n",
       "      <td>[[イトラコナゾール錠50mg「科研」], [ルリコンクリーム1%], [ベギンクリーム20...</td>\n",
       "      <td>[イトラコナゾール錠50mg「科研, ルリコンクリーム1%, ベキンクリーム20%, ベピオ...</td>\n",
       "      <td>0.023029</td>\n",
       "    </tr>\n",
       "    <tr>\n",
       "      <th>2</th>\n",
       "      <td>sample1_med.txt</td>\n",
       "      <td>1</td>\n",
       "      <td>11</td>\n",
       "      <td>3</td>\n",
       "      <td>24</td>\n",
       "      <td>1</td>\n",
       "      <td>[[イトラコナゾール錠50mg「科研」], [ルリコンクリーム1%], [ベギンクリーム20...</td>\n",
       "      <td>[イトラコナゾール錠50mg「科研, ルリコンクリーム1%, ベキンクリーム20%, ベピオ...</td>\n",
       "      <td>0.022641</td>\n",
       "    </tr>\n",
       "    <tr>\n",
       "      <th>3</th>\n",
       "      <td>sample1_med.txt</td>\n",
       "      <td>1</td>\n",
       "      <td>11</td>\n",
       "      <td>3</td>\n",
       "      <td>25</td>\n",
       "      <td>1</td>\n",
       "      <td>[[イトラコナゾール錠50mg「科研」], [ルリコンクリーム1%], [ベギンクリーム20...</td>\n",
       "      <td>[イトラコナゾール錠50mg「科研, ルリコンクリーム1%, ベキンクリーム20%, ベピオ...</td>\n",
       "      <td>0.022673</td>\n",
       "    </tr>\n",
       "    <tr>\n",
       "      <th>4</th>\n",
       "      <td>sample1_med.txt</td>\n",
       "      <td>1</td>\n",
       "      <td>11</td>\n",
       "      <td>3</td>\n",
       "      <td>26</td>\n",
       "      <td>1</td>\n",
       "      <td>[[イトラコナゾール錠50mg「科研」], [ルリコンクリーム1%], [ベギンクリーム20...</td>\n",
       "      <td>[イトラコナゾール錠50mg「科研, ルリコンクリーム1%, ベキンクリーム20%, ベピオ...</td>\n",
       "      <td>0.023180</td>\n",
       "    </tr>\n",
       "    <tr>\n",
       "      <th>...</th>\n",
       "      <td>...</td>\n",
       "      <td>...</td>\n",
       "      <td>...</td>\n",
       "      <td>...</td>\n",
       "      <td>...</td>\n",
       "      <td>...</td>\n",
       "      <td>...</td>\n",
       "      <td>...</td>\n",
       "      <td>...</td>\n",
       "    </tr>\n",
       "    <tr>\n",
       "      <th>18139</th>\n",
       "      <td>PHC_sample_med.txt</td>\n",
       "      <td>3</td>\n",
       "      <td>9</td>\n",
       "      <td>6</td>\n",
       "      <td>26</td>\n",
       "      <td>2</td>\n",
       "      <td>[[カルボシステイン錠500mg「ツルハラ」, カルボシステイン錠500mg「トーワ」, カ...</td>\n",
       "      <td>[カルボシステイン錠, アンブロキソール塩酸塩錠, フスコデ配合錠」, セフカペンピボキシル...</td>\n",
       "      <td>0.042033</td>\n",
       "    </tr>\n",
       "    <tr>\n",
       "      <th>18140</th>\n",
       "      <td>PHC_sample_med.txt</td>\n",
       "      <td>3</td>\n",
       "      <td>9</td>\n",
       "      <td>6</td>\n",
       "      <td>26</td>\n",
       "      <td>3</td>\n",
       "      <td>[[カルボシステイン錠500mg「ツルハラ」, カルボシステイン錠500mg「トーワ」, カ...</td>\n",
       "      <td>[カルボシステイン錠, アンブロキソール塩酸塩錠, フスコデ配合錠」, セフカペンピボキシル...</td>\n",
       "      <td>0.044043</td>\n",
       "    </tr>\n",
       "    <tr>\n",
       "      <th>18141</th>\n",
       "      <td>PHC_sample_med.txt</td>\n",
       "      <td>3</td>\n",
       "      <td>9</td>\n",
       "      <td>6</td>\n",
       "      <td>27</td>\n",
       "      <td>1</td>\n",
       "      <td>[[カルボシステイン錠500mg「ツルハラ」, カルボシステイン錠500mg「トーワ」, カ...</td>\n",
       "      <td>[カルボシステイン錠, アンブロキソール塩酸塩錠, フスコデ配合錠」, セフカペンピボキシル...</td>\n",
       "      <td>0.044249</td>\n",
       "    </tr>\n",
       "    <tr>\n",
       "      <th>18142</th>\n",
       "      <td>PHC_sample_med.txt</td>\n",
       "      <td>3</td>\n",
       "      <td>9</td>\n",
       "      <td>6</td>\n",
       "      <td>27</td>\n",
       "      <td>2</td>\n",
       "      <td>[[カルボシステイン錠500mg「ツルハラ」, カルボシステイン錠500mg「トーワ」, カ...</td>\n",
       "      <td>[カルボシステイン錠, アンブロキソール塩酸塩錠, フスコデ配合錠」, セフカペンピボキシル...</td>\n",
       "      <td>0.043911</td>\n",
       "    </tr>\n",
       "    <tr>\n",
       "      <th>18143</th>\n",
       "      <td>PHC_sample_med.txt</td>\n",
       "      <td>3</td>\n",
       "      <td>9</td>\n",
       "      <td>6</td>\n",
       "      <td>27</td>\n",
       "      <td>3</td>\n",
       "      <td>[[カルボシステイン錠500mg「ツルハラ」, カルボシステイン錠500mg「トーワ」, カ...</td>\n",
       "      <td>[カルボシステイン錠, アンブロキソール塩酸塩錠, フスコデ配合錠」, セフカペンピボキシル...</td>\n",
       "      <td>0.044469</td>\n",
       "    </tr>\n",
       "  </tbody>\n",
       "</table>\n",
       "<p>18144 rows × 9 columns</p>\n",
       "</div>"
      ],
      "text/plain": [
       "                    input max_edit_distance_dict prefix val_len_min  \\\n",
       "0         sample1_med.txt                      1     11           3   \n",
       "1         sample1_med.txt                      1     11           3   \n",
       "2         sample1_med.txt                      1     11           3   \n",
       "3         sample1_med.txt                      1     11           3   \n",
       "4         sample1_med.txt                      1     11           3   \n",
       "...                   ...                    ...    ...         ...   \n",
       "18139  PHC_sample_med.txt                      3      9           6   \n",
       "18140  PHC_sample_med.txt                      3      9           6   \n",
       "18141  PHC_sample_med.txt                      3      9           6   \n",
       "18142  PHC_sample_med.txt                      3      9           6   \n",
       "18143  PHC_sample_med.txt                      3      9           6   \n",
       "\n",
       "      val_len_max max_edit_distance_lookup  \\\n",
       "0              22                        1   \n",
       "1              23                        1   \n",
       "2              24                        1   \n",
       "3              25                        1   \n",
       "4              26                        1   \n",
       "...           ...                      ...   \n",
       "18139          26                        2   \n",
       "18140          26                        3   \n",
       "18141          27                        1   \n",
       "18142          27                        2   \n",
       "18143          27                        3   \n",
       "\n",
       "                                             calced_vals  \\\n",
       "0      [[イトラコナゾール錠50mg「科研」], [ルリコンクリーム1%], [ベギンクリーム20...   \n",
       "1      [[イトラコナゾール錠50mg「科研」], [ルリコンクリーム1%], [ベギンクリーム20...   \n",
       "2      [[イトラコナゾール錠50mg「科研」], [ルリコンクリーム1%], [ベギンクリーム20...   \n",
       "3      [[イトラコナゾール錠50mg「科研」], [ルリコンクリーム1%], [ベギンクリーム20...   \n",
       "4      [[イトラコナゾール錠50mg「科研」], [ルリコンクリーム1%], [ベギンクリーム20...   \n",
       "...                                                  ...   \n",
       "18139  [[カルボシステイン錠500mg「ツルハラ」, カルボシステイン錠500mg「トーワ」, カ...   \n",
       "18140  [[カルボシステイン錠500mg「ツルハラ」, カルボシステイン錠500mg「トーワ」, カ...   \n",
       "18141  [[カルボシステイン錠500mg「ツルハラ」, カルボシステイン錠500mg「トーワ」, カ...   \n",
       "18142  [[カルボシステイン錠500mg「ツルハラ」, カルボシステイン錠500mg「トーワ」, カ...   \n",
       "18143  [[カルボシステイン錠500mg「ツルハラ」, カルボシステイン錠500mg「トーワ」, カ...   \n",
       "\n",
       "                                               base_vals      time  \n",
       "0      [イトラコナゾール錠50mg「科研, ルリコンクリーム1%, ベキンクリーム20%, ベピオ...  0.026252  \n",
       "1      [イトラコナゾール錠50mg「科研, ルリコンクリーム1%, ベキンクリーム20%, ベピオ...  0.023029  \n",
       "2      [イトラコナゾール錠50mg「科研, ルリコンクリーム1%, ベキンクリーム20%, ベピオ...  0.022641  \n",
       "3      [イトラコナゾール錠50mg「科研, ルリコンクリーム1%, ベキンクリーム20%, ベピオ...  0.022673  \n",
       "4      [イトラコナゾール錠50mg「科研, ルリコンクリーム1%, ベキンクリーム20%, ベピオ...  0.023180  \n",
       "...                                                  ...       ...  \n",
       "18139  [カルボシステイン錠, アンブロキソール塩酸塩錠, フスコデ配合錠」, セフカペンピボキシル...  0.042033  \n",
       "18140  [カルボシステイン錠, アンブロキソール塩酸塩錠, フスコデ配合錠」, セフカペンピボキシル...  0.044043  \n",
       "18141  [カルボシステイン錠, アンブロキソール塩酸塩錠, フスコデ配合錠」, セフカペンピボキシル...  0.044249  \n",
       "18142  [カルボシステイン錠, アンブロキソール塩酸塩錠, フスコデ配合錠」, セフカペンピボキシル...  0.043911  \n",
       "18143  [カルボシステイン錠, アンブロキソール塩酸塩錠, フスコデ配合錠」, セフカペンピボキシル...  0.044469  \n",
       "\n",
       "[18144 rows x 9 columns]"
      ]
     },
     "execution_count": 8,
     "metadata": {},
     "output_type": "execute_result"
    }
   ],
   "source": [
    "df_result"
   ]
  },
  {
   "cell_type": "code",
   "execution_count": null,
   "metadata": {},
   "outputs": [],
   "source": []
  }
 ],
 "metadata": {
  "kernelspec": {
   "display_name": "Python 3",
   "language": "python",
   "name": "python3"
  },
  "language_info": {
   "codemirror_mode": {
    "name": "ipython",
    "version": 3
   },
   "file_extension": ".py",
   "mimetype": "text/x-python",
   "name": "python",
   "nbconvert_exporter": "python",
   "pygments_lexer": "ipython3",
   "version": "3.6.9"
  },
  "toc": {
   "base_numbering": 1,
   "nav_menu": {},
   "number_sections": true,
   "sideBar": true,
   "skip_h1_title": false,
   "title_cell": "Table of Contents",
   "title_sidebar": "Contents",
   "toc_cell": false,
   "toc_position": {},
   "toc_section_display": true,
   "toc_window_display": false
  }
 },
 "nbformat": 4,
 "nbformat_minor": 4
}
