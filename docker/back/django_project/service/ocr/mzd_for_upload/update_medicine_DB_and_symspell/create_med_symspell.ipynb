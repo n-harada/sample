{
 "cells": [
  {
   "cell_type": "code",
   "execution_count": 6,
   "metadata": {},
   "outputs": [],
   "source": [
    "import os\n",
    "import pickle\n",
    "import jaconv\n",
    "import re\n",
    "import Levenshtein as L\n",
    "\n",
    "os.chdir(r'/home/yukim/Desktop/prescription/mzd_for_upload')\n",
    "from get_symspell_obj_test import get_symspell_obj_simple,get_symspell_obj_full\n",
    "\n",
    "os.chdir(r'/home/yukim/Desktop/prescription')\n",
    "with open('df_medicineInfo.pickle','rb') as f:\n",
    "    df_medicineInfo = pickle.load(f)"
   ]
  },
  {
   "cell_type": "code",
   "execution_count": 2,
   "metadata": {},
   "outputs": [],
   "source": [
    "head = 20\n",
    "max_ed_dict,prefix = 7,8"
   ]
  },
  {
   "cell_type": "code",
   "execution_count": null,
   "metadata": {},
   "outputs": [],
   "source": [
    "l_meds = df_medicineInfo['name'].values.tolist()\n",
    "l_meds = [re.sub(' ','',i) for i in l_meds]\n",
    "l_meds = [i[:head] for i in l_meds]\n",
    "\n",
    "os.chdir(r'/home/yukim/Desktop/tmp/')\n",
    "sym_spell_med_full = get_symspell_obj_full(max_ed_dict,prefix,l_meds,txt_name='medicine.txt')\n",
    "\n",
    "os.chdir(r'/home/yukim/Desktop/prescription/')\n",
    "with open('medicine_front'+str(head)+'_'+str(max_ed_dict)+'_'+str(prefix)+'_NEW.pickle', 'wb') as f:\n",
    "    pickle.dump(sym_spell_med_full, f)"
   ]
  },
  {
   "cell_type": "code",
   "execution_count": 7,
   "metadata": {},
   "outputs": [],
   "source": [
    "head = 20\n",
    "max_ed_dict,prefix = 2,5"
   ]
  },
  {
   "cell_type": "code",
   "execution_count": 10,
   "metadata": {},
   "outputs": [],
   "source": [
    "l_meds = df_medicineInfo['name'].values.tolist()\n",
    "l_meds = [re.sub(' ','',i) for i in l_meds]\n",
    "l_meds = [i[:head] for i in l_meds]\n",
    "\n",
    "os.chdir(r'/home/yukim/Desktop/tmp/')\n",
    "sym_spell_med_full = get_symspell_obj_full(max_ed_dict,prefix,l_meds,txt_name='medicine.txt')\n",
    "\n",
    "os.chdir(r'/home/yukim/Desktop/prescription/')\n",
    "with open('medicine_front'+str(head)+'_'+str(max_ed_dict)+'_'+str(prefix)+'_NEW.pickle', 'wb') as f:\n",
    "    pickle.dump(sym_spell_med_full, f)"
   ]
  },
  {
   "cell_type": "code",
   "execution_count": null,
   "metadata": {},
   "outputs": [],
   "source": []
  }
 ],
 "metadata": {
  "kernelspec": {
   "display_name": "Python 3",
   "language": "python",
   "name": "python3"
  },
  "language_info": {
   "codemirror_mode": {
    "name": "ipython",
    "version": 3
   },
   "file_extension": ".py",
   "mimetype": "text/x-python",
   "name": "python",
   "nbconvert_exporter": "python",
   "pygments_lexer": "ipython3",
   "version": "3.8.5"
  },
  "toc": {
   "base_numbering": 1,
   "nav_menu": {},
   "number_sections": true,
   "sideBar": true,
   "skip_h1_title": false,
   "title_cell": "Table of Contents",
   "title_sidebar": "Contents",
   "toc_cell": false,
   "toc_position": {},
   "toc_section_display": true,
   "toc_window_display": false
  }
 },
 "nbformat": 4,
 "nbformat_minor": 4
}
