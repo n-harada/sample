{
 "cells": [
  {
   "cell_type": "code",
   "execution_count": 4,
   "metadata": {},
   "outputs": [],
   "source": [
    "import pickle\n",
    "import os\n",
    "import datetime as dt\n",
    "import re\n",
    "from IPython.display import Image\n",
    "import regex\n",
    "\n",
    "root_dir = r'/home/yukim/Desktop/prescription'\n",
    "dict_dir = r'/home/yukim/Desktop/prescription/ym_development'\n",
    "sample_phase_dir = r'/home/yukim/Desktop/prescription/ym_development/samples/txt/raw_sample_phase1'\n",
    "\n",
    "os.chdir(root_dir)\n",
    "import med_info as mi"
   ]
  },
  {
   "cell_type": "code",
   "execution_count": 5,
   "metadata": {},
   "outputs": [],
   "source": [
    "med_names = mi.df_medicineInfo['品名'].values.tolist()\n",
    "\n",
    "p_kanji = regex.compile(r'\\p{Script=Han}+')\n",
    "p_katakana = re.compile('[\\u30A1-\\u30FF]+')\n",
    "p_hiragana = re.compile('[\\u3041-\\u309F]+')\n",
    "p_alphabet = re.compile('[a-zA-Zａ-ｚＡ-Ｚ]+')"
   ]
  },
  {
   "cell_type": "code",
   "execution_count": 13,
   "metadata": {},
   "outputs": [
    {
     "name": "stdout",
     "output_type": "stream",
     "text": [
      "チャヨウ is fully katakana\n"
     ]
    }
   ],
   "source": [
    "full_katakana_found, full_alphabet_found = False,False\n",
    "\n",
    "for name in med_names:\n",
    "    searched = p_katakana.fullmatch(name)\n",
    "    if searched is not None and not full_katakana_found:\n",
    "        print(name,'is fully katakana')\n",
    "        full_katakana_found = True\n",
    "        \n",
    "    searched = p_alphabet.fullmatch(name)\n",
    "    if searched is not None and not full_alphabet_found:\n",
    "        print(name,'is fully ALPHABET')\n",
    "        full_alphabet_found = True"
   ]
  },
  {
   "cell_type": "code",
   "execution_count": null,
   "metadata": {},
   "outputs": [],
   "source": []
  }
 ],
 "metadata": {
  "kernelspec": {
   "display_name": "Python 3",
   "language": "python",
   "name": "python3"
  },
  "language_info": {
   "codemirror_mode": {
    "name": "ipython",
    "version": 3
   },
   "file_extension": ".py",
   "mimetype": "text/x-python",
   "name": "python",
   "nbconvert_exporter": "python",
   "pygments_lexer": "ipython3",
   "version": "3.8.5"
  }
 },
 "nbformat": 4,
 "nbformat_minor": 4
}
