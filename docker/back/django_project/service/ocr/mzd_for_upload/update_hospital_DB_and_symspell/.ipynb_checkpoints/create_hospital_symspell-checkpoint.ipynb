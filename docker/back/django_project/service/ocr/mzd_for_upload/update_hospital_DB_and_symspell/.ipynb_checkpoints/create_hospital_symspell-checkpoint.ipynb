{
 "cells": [
  {
   "cell_type": "code",
   "execution_count": 2,
   "metadata": {},
   "outputs": [
    {
     "name": "stdout",
     "output_type": "stream",
     "text": [
      "imported using old dir struct\n",
      "loading med symspells...\n",
      "loading medicine DB...\n",
      "loading hospital info in med_info.py...should optimize...\n",
      "loading l_units_med_stable...\n"
     ]
    }
   ],
   "source": [
    "import os\n",
    "import pickle\n",
    "import jaconv\n",
    "import re\n",
    "import Levenshtein as L\n",
    "\n",
    "os.chdir(r'/home/yukim/Desktop/prescription/mzd_for_upload')\n",
    "from get_symspell_obj_test import get_symspell_obj_simple,get_symspell_obj_full\n",
    "\n",
    "os.chdir(r'/home/yukim/Desktop/prescription/algo')\n",
    "import med_info as v1"
   ]
  },
  {
   "cell_type": "code",
   "execution_count": 5,
   "metadata": {},
   "outputs": [],
   "source": [
    "head = 15\n",
    "max_ed_dict,prefix = 3,8"
   ]
  },
  {
   "cell_type": "code",
   "execution_count": 6,
   "metadata": {},
   "outputs": [],
   "source": [
    "dict_ = v1.dict_hospitalInfo_base\n",
    "l_names = list(dict_.keys())"
   ]
  },
  {
   "cell_type": "code",
   "execution_count": 9,
   "metadata": {},
   "outputs": [],
   "source": [
    "#~~法人 or ~~会が入っている病院は, その接頭語を除いた文字列も病院名として用いる\n",
    "l_names_with_abbreviation = l_names[:]\n",
    "l_header = ['法人','会','組合','付属','施設','保険','付属','直営','保健所']\n",
    "\n",
    "l_hospital_headers = []\n",
    "for name in l_names:\n",
    "    \n",
    "    l_split = [i for i in name.split(' ') if i!=''] #''がl_splitに含まれる事象を確認したためPATCH\n",
    "    header_found=True\n",
    "    while len(l_split)>1 and header_found==True:\n",
    "            \n",
    "        #判定対象の文字列を定義する\n",
    "        frontier_val = l_split[0]\n",
    "            \n",
    "        #医療法人~~ や ~~会, は空白にてsplitされているという前提のもと, その接頭語を落としていく\n",
    "        header_found = False\n",
    "        for h in l_header:\n",
    "            if h in frontier_val:\n",
    "                header_found=True\n",
    "        if header_found:\n",
    "            l_hospital_headers.append(l_split[0])\n",
    "            l_split = l_split[1:]\n",
    "            \n",
    "    abbr = ''.join(l_split)\n",
    "    l_names_with_abbreviation.append(abbr)\n",
    "    dict_abbr_to_full[abbr] = name\n",
    "    \n",
    "l_hospitals = [re.sub(' ','',i) for i in l_names_with_abbreviation]\n",
    "l_hospitals = [i[:head] for i in l_hospitals]"
   ]
  },
  {
   "cell_type": "code",
   "execution_count": 13,
   "metadata": {},
   "outputs": [],
   "source": [
    "os.chdir(r'/home/yukim/Desktop/tmp/')\n",
    "sym_spell_med_full = get_symspell_obj_simple(max_ed_dict,prefix,l_hospitals,txt_name='hospital.txt')\n",
    "\n",
    "os.chdir(r'/home/yukim/Desktop/prescription/DB_module_pickles')\n",
    "with open('hospital_front'+str(head)+'_'+str(max_ed_dict)+'_'+str(prefix)+'_NEW.pickle', 'wb') as f:\n",
    "    pickle.dump(sym_spell_med_full, f)"
   ]
  },
  {
   "cell_type": "code",
   "execution_count": null,
   "metadata": {},
   "outputs": [],
   "source": []
  }
 ],
 "metadata": {
  "kernelspec": {
   "display_name": "Python 3",
   "language": "python",
   "name": "python3"
  },
  "language_info": {
   "codemirror_mode": {
    "name": "ipython",
    "version": 3
   },
   "file_extension": ".py",
   "mimetype": "text/x-python",
   "name": "python",
   "nbconvert_exporter": "python",
   "pygments_lexer": "ipython3",
   "version": "3.8.5"
  },
  "toc": {
   "base_numbering": 1,
   "nav_menu": {},
   "number_sections": true,
   "sideBar": true,
   "skip_h1_title": false,
   "title_cell": "Table of Contents",
   "title_sidebar": "Contents",
   "toc_cell": false,
   "toc_position": {},
   "toc_section_display": true,
   "toc_window_display": false
  }
 },
 "nbformat": 4,
 "nbformat_minor": 4
}
