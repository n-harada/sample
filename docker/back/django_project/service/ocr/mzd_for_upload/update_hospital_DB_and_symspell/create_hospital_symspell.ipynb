{
 "cells": [
  {
   "cell_type": "code",
   "execution_count": 1,
   "metadata": {},
   "outputs": [
    {
     "name": "stdout",
     "output_type": "stream",
     "text": [
      "imported using old dir struct\n",
      "loading med symspells...\n",
      "loading medicine DB...\n",
      "loading hospital info in med_info.py...should optimize...\n",
      "loading l_units_med_stable...\n"
     ]
    }
   ],
   "source": [
    "import os\n",
    "import pickle\n",
    "import jaconv\n",
    "import re\n",
    "import Levenshtein as L\n",
    "\n",
    "os.chdir(r'/home/yukim/Desktop/prescription/mzd_for_upload')\n",
    "from get_symspell_obj_test import get_symspell_obj_simple,get_symspell_obj_full\n",
    "\n",
    "os.chdir(r'/home/yukim/Desktop/prescription/algo')\n",
    "import med_info as v1"
   ]
  },
  {
   "cell_type": "code",
   "execution_count": 2,
   "metadata": {},
   "outputs": [],
   "source": [
    "head = 15\n",
    "max_ed_dict,prefix = 3,8"
   ]
  },
  {
   "cell_type": "code",
   "execution_count": 4,
   "metadata": {},
   "outputs": [],
   "source": [
    "dict_ = v1.dict_hospitalInfo_base\n",
    "l_names = list(dict_.keys())\n",
    "l_hospitals = [re.sub(' ','',i) for i in l_names]\n",
    "l_hospitals = [i[:head] for i in l_hospitals]"
   ]
  },
  {
   "cell_type": "code",
   "execution_count": 5,
   "metadata": {},
   "outputs": [],
   "source": [
    "os.chdir(r'/home/yukim/Desktop/tmp/')\n",
    "sym_spell_med_full = get_symspell_obj_simple(max_ed_dict,prefix,l_hospitals,txt_name='hospital.txt')\n",
    "\n",
    "os.chdir(r'/home/yukim/Desktop/prescription/DB_module_pickles')\n",
    "with open('hospital_front'+str(head)+'_'+str(max_ed_dict)+'_'+str(prefix)+'_NEW.pickle', 'wb') as f:\n",
    "    pickle.dump(sym_spell_med_full, f)"
   ]
  },
  {
   "cell_type": "code",
   "execution_count": null,
   "metadata": {},
   "outputs": [],
   "source": []
  }
 ],
 "metadata": {
  "kernelspec": {
   "display_name": "Python 3",
   "language": "python",
   "name": "python3"
  },
  "language_info": {
   "codemirror_mode": {
    "name": "ipython",
    "version": 3
   },
   "file_extension": ".py",
   "mimetype": "text/x-python",
   "name": "python",
   "nbconvert_exporter": "python",
   "pygments_lexer": "ipython3",
   "version": "3.8.5"
  },
  "toc": {
   "base_numbering": 1,
   "nav_menu": {},
   "number_sections": true,
   "sideBar": true,
   "skip_h1_title": false,
   "title_cell": "Table of Contents",
   "title_sidebar": "Contents",
   "toc_cell": false,
   "toc_position": {},
   "toc_section_display": true,
   "toc_window_display": false
  }
 },
 "nbformat": 4,
 "nbformat_minor": 4
}
