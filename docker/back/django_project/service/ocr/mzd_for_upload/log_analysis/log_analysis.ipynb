{
 "cells": [
  {
   "cell_type": "code",
   "execution_count": 15,
   "metadata": {},
   "outputs": [],
   "source": [
    "import os\n",
    "import pandas as pd"
   ]
  },
  {
   "cell_type": "code",
   "execution_count": 11,
   "metadata": {},
   "outputs": [],
   "source": [
    "ERROR_KEY = 'error-report'"
   ]
  },
  {
   "cell_type": "markdown",
   "metadata": {},
   "source": [
    "### リクエスト数"
   ]
  },
  {
   "cell_type": "markdown",
   "metadata": {},
   "source": [
    "#### オゾン薬局"
   ]
  },
  {
   "cell_type": "code",
   "execution_count": 74,
   "metadata": {},
   "outputs": [],
   "source": [
    "dict_total_papers = {\n",
    "    '20201124':1,\n",
    "    '20201125':1,\n",
    "    '20201126':5,\n",
    "    '20201127':0,\n",
    "    '20201128':5,\n",
    "    '20201129':0,\n",
    "    '20201130':7,\n",
    "    '20201201':5,\n",
    "    '20201202':1,\n",
    "    '20201203':2,\n",
    "    '20201204':2,\n",
    "    '20201205':5,\n",
    "}\n",
    "\n",
    "dict_total_QRs = {\n",
    "    '20201124':1,\n",
    "    '20201125':1,\n",
    "    '20201126':5,\n",
    "    '20201127':0,\n",
    "    '20201128':4,\n",
    "    '20201129':0,\n",
    "    '20201130':5,\n",
    "    '20201201':3,\n",
    "    '20201202':1,\n",
    "    '20201203':2,\n",
    "    '20201204':2,\n",
    "    '20201205':5,    \n",
    "}\n",
    "\n",
    "LOG_DIR = './ozon'"
   ]
  },
  {
   "cell_type": "code",
   "execution_count": 75,
   "metadata": {
    "scrolled": false
   },
   "outputs": [
    {
     "name": "stdout",
     "output_type": "stream",
     "text": [
      "20201201.log\n",
      "INFO:root:【error-report】birthday\n",
      "INFO:root:【error-report】iryokikan\n",
      "\n",
      "20201202.log\n",
      "\n",
      "20201203.log\n",
      "\n",
      "20201204.log\n",
      "INFO:root:【error-report】,patients name ,1_OZONE_2020-12-05-12-23-02-423856\n",
      "INFO:root:【error-report】,patients name kana ,1_OZONE_2020-12-05-13-02-50-288887\n",
      "\n"
     ]
    }
   ],
   "source": [
    "dict_error_reports = {}\n",
    "for log in sorted(os.listdir(LOG_DIR)):\n",
    "    fd = open(os.path.join(LOG_DIR,log), mode='r')\n",
    "    data = fd.read().splitlines()\n",
    "    fd.close()\n",
    "    \n",
    "    cnt = 0\n",
    "    print(log)\n",
    "    for val in data:\n",
    "        if ERROR_KEY in val:\n",
    "            cnt+=1\n",
    "            print(val)\n",
    "    print('')\n",
    "    \n",
    "    dict_error_reports[log.rstrip('.log')] = cnt"
   ]
  },
  {
   "cell_type": "code",
   "execution_count": 76,
   "metadata": {},
   "outputs": [],
   "source": [
    "df_log = pd.DataFrame(columns=['total_request','no_errors','errors'])\n",
    "for key in dict_total_QRs:\n",
    "    total_request = dict_total_QRs[key]\n",
    "    try:\n",
    "        errors = dict_error_reports[key]\n",
    "    except KeyError:\n",
    "        errors = 0\n",
    "    s_append = pd.Series([total_request,total_request-errors,errors],index=df_log.columns,name=key)\n",
    "    df_log = df_log.append(s_append)"
   ]
  },
  {
   "cell_type": "code",
   "execution_count": 77,
   "metadata": {},
   "outputs": [
    {
     "data": {
      "text/plain": [
       "<AxesSubplot:>"
      ]
     },
     "execution_count": 77,
     "metadata": {},
     "output_type": "execute_result"
    },
    {
     "data": {
      "image/png": "[encoded data removed]",
      "text/plain": [
       "<Figure size 432x288 with 1 Axes>"
      ]
     },
     "metadata": {
      "needs_background": "light"
     },
     "output_type": "display_data"
    }
   ],
   "source": [
    "df_log[['no_errors','errors']].plot.bar(stacked=True,ylim=[0,15])"
   ]
  },
  {
   "cell_type": "markdown",
   "metadata": {},
   "source": [
    "#### やらい町薬局"
   ]
  },
  {
   "cell_type": "code",
   "execution_count": 78,
   "metadata": {},
   "outputs": [],
   "source": [
    "dict_total_papers = {\n",
    "    '20201124':10,\n",
    "    '20201125':18,\n",
    "    '20201126':1,\n",
    "    '20201127':0,\n",
    "    '20201128':0,\n",
    "    '20201129':0,\n",
    "    '20201130':0,\n",
    "    '20201201':0,\n",
    "    '20201202':0,\n",
    "    '20201203':0,\n",
    "    '20201204':0,\n",
    "    '20201205':0,\n",
    "}\n",
    "\n",
    "dict_total_QRs = {\n",
    "    '20201124':10,\n",
    "    '20201125':13,\n",
    "    '20201126':1,\n",
    "    '20201127':0,\n",
    "    '20201128':0,\n",
    "    '20201129':0,\n",
    "    '20201130':0,\n",
    "    '20201201':0,\n",
    "    '20201202':0,\n",
    "    '20201203':0,\n",
    "    '20201204':0,\n",
    "    '20201205':0,    \n",
    "}\n",
    "\n",
    "LOG_DIR = './yarai'"
   ]
  },
  {
   "cell_type": "code",
   "execution_count": 79,
   "metadata": {
    "scrolled": false
   },
   "outputs": [],
   "source": [
    "dict_error_reports = {}\n",
    "for log in sorted(os.listdir(LOG_DIR)):\n",
    "    fd = open(os.path.join(LOG_DIR,log), mode='r')\n",
    "    data = fd.read().splitlines()\n",
    "    fd.close()\n",
    "    \n",
    "    cnt = 0\n",
    "    #print(log)\n",
    "    for val in data:\n",
    "        #print(val)\n",
    "        if ERROR_KEY in val:\n",
    "            cnt+=1\n",
    "    #print('')\n",
    "    \n",
    "    dict_error_reports[log.rstrip('.log')] = cnt"
   ]
  },
  {
   "cell_type": "code",
   "execution_count": 80,
   "metadata": {},
   "outputs": [],
   "source": [
    "df_log = pd.DataFrame(columns=['total_request','no_errors','errors'])\n",
    "for key in dict_total_QRs:\n",
    "    total_request = dict_total_QRs[key]\n",
    "    try:\n",
    "        errors = dict_error_reports[key]\n",
    "    except KeyError:\n",
    "        errors = 0\n",
    "    s_append = pd.Series([total_request,total_request-errors,errors],index=df_log.columns,name=key)\n",
    "    df_log = df_log.append(s_append)"
   ]
  },
  {
   "cell_type": "code",
   "execution_count": 81,
   "metadata": {},
   "outputs": [
    {
     "data": {
      "text/plain": [
       "<AxesSubplot:>"
      ]
     },
     "execution_count": 81,
     "metadata": {},
     "output_type": "execute_result"
    },
    {
     "data": {
      "image/png": "[encoded data removed]",
      "text/plain": [
       "<Figure size 432x288 with 1 Axes>"
      ]
     },
     "metadata": {
      "needs_background": "light"
     },
     "output_type": "display_data"
    }
   ],
   "source": [
    "df_log[['no_errors','errors']].plot.bar(stacked=True,ylim=[0,15])"
   ]
  },
  {
   "cell_type": "markdown",
   "metadata": {},
   "source": [
    "#### 金輪堂山崎薬局"
   ]
  },
  {
   "cell_type": "code",
   "execution_count": 87,
   "metadata": {},
   "outputs": [],
   "source": [
    "dict_total_papers = {\n",
    "    '20201124':2,\n",
    "    '20201125':0,\n",
    "    '20201126':3,\n",
    "    '20201127':0,\n",
    "    '20201128':0,\n",
    "    '20201129':0,\n",
    "    '20201130':5,\n",
    "    '20201201':0,\n",
    "    '20201202':2,\n",
    "    '20201203':0,\n",
    "    '20201204':0,\n",
    "    '20201205':0,\n",
    "}\n",
    "\n",
    "dict_total_QRs = {\n",
    "    '20201124':2,\n",
    "    '20201125':0,\n",
    "    '20201126':2,\n",
    "    '20201127':0,\n",
    "    '20201128':0,\n",
    "    '20201129':0,\n",
    "    '20201130':4,\n",
    "    '20201201':0,\n",
    "    '20201202':2,\n",
    "    '20201203':0,\n",
    "    '20201204':0,\n",
    "    '20201205':0,    \n",
    "}\n",
    "\n",
    "LOG_DIR = './yamazaki'"
   ]
  },
  {
   "cell_type": "code",
   "execution_count": 88,
   "metadata": {
    "scrolled": false
   },
   "outputs": [
    {
     "name": "stdout",
     "output_type": "stream",
     "text": [
      "20201202.log\n",
      "INFO:root:【error-report】hakkobi\n",
      "INFO:root:【error-report】hakkobi\n",
      "\n",
      "20201203.log\n",
      "\n"
     ]
    }
   ],
   "source": [
    "dict_error_reports = {}\n",
    "for log in sorted(os.listdir(LOG_DIR)):\n",
    "    fd = open(os.path.join(LOG_DIR,log), mode='r')\n",
    "    data = fd.read().splitlines()\n",
    "    fd.close()\n",
    "    \n",
    "    cnt = 0\n",
    "    print(log)\n",
    "    for val in data:\n",
    "        if ERROR_KEY in val:\n",
    "            print(val)\n",
    "            cnt+=1\n",
    "    print('')\n",
    "    \n",
    "    dict_error_reports[log.rstrip('.log')] = cnt"
   ]
  },
  {
   "cell_type": "code",
   "execution_count": 89,
   "metadata": {},
   "outputs": [],
   "source": [
    "df_log = pd.DataFrame(columns=['total_request','no_errors','errors'])\n",
    "for key in dict_total_QRs:\n",
    "    total_request = dict_total_QRs[key]\n",
    "    try:\n",
    "        errors = dict_error_reports[key]\n",
    "    except KeyError:\n",
    "        errors = 0\n",
    "    s_append = pd.Series([total_request,total_request-errors,errors],index=df_log.columns,name=key)\n",
    "    df_log = df_log.append(s_append)"
   ]
  },
  {
   "cell_type": "code",
   "execution_count": 90,
   "metadata": {},
   "outputs": [
    {
     "data": {
      "text/plain": [
       "<AxesSubplot:>"
      ]
     },
     "execution_count": 90,
     "metadata": {},
     "output_type": "execute_result"
    },
    {
     "data": {
      "image/png": "[encoded data removed]",
      "text/plain": [
       "<Figure size 432x288 with 1 Axes>"
      ]
     },
     "metadata": {
      "needs_background": "light"
     },
     "output_type": "display_data"
    }
   ],
   "source": [
    "df_log[['no_errors','errors']].plot.bar(stacked=True,ylim=[0,15])"
   ]
  },
  {
   "cell_type": "code",
   "execution_count": null,
   "metadata": {},
   "outputs": [],
   "source": []
  }
 ],
 "metadata": {
  "kernelspec": {
   "display_name": "Python 3",
   "language": "python",
   "name": "python3"
  },
  "language_info": {
   "codemirror_mode": {
    "name": "ipython",
    "version": 3
   },
   "file_extension": ".py",
   "mimetype": "text/x-python",
   "name": "python",
   "nbconvert_exporter": "python",
   "pygments_lexer": "ipython3",
   "version": "3.8.5"
  }
 },
 "nbformat": 4,
 "nbformat_minor": 4
}
