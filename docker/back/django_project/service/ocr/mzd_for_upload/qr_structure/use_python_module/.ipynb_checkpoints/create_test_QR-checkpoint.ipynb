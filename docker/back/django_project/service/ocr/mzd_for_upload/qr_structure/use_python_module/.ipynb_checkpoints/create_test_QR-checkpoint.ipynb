{
 "cells": [
  {
   "cell_type": "code",
   "execution_count": 6,
   "metadata": {},
   "outputs": [],
   "source": [
    "import os\n",
    "\n",
    "os.chdir(r'/home/yukim/Desktop/prescription/')\n",
    "import make_qr"
   ]
  },
  {
   "cell_type": "code",
   "execution_count": 9,
   "metadata": {},
   "outputs": [],
   "source": [
    "basic_result={\"id_1_hospital_name\":\"\",\"_1_hospital_code_type\":\"\",\"_1_hospital_code\":\"\",\"_1_hospital_place_code\":\"\",\n",
    "              '_5_doctor_name_kanji':'', '_5_doctor_name_kana':'',\n",
    "              \"id_11_patient_name_kanji\":\"\",\"id_11_patient_name_kana\":\"\",\n",
    "              \"id_12_patient_sex\":\"\",\n",
    "              '_13_patient_birthday':'',\n",
    "              \"id_22_insurance_patient_num\":\"\",\n",
    "              \"id_23_insurance_card_id\":\"\",\"id_23_insurance_card_num\":\"\",\n",
    "              \"_51_prescription_date\":''}\n",
    "\n",
    "l_keys_med = ['RP番号','PR番号内連番','剤形区分','調剤数量','用法名称','薬品名称','用量','単位名']"
   ]
  },
  {
   "cell_type": "code",
   "execution_count": 10,
   "metadata": {},
   "outputs": [],
   "source": [
    "basic_result[\"id_1_hospital_name\"] = \"仙川駅前すずきクリニック\"\n",
    "basic_result[\"_1_hospital_code_type\"] ='1'\n",
    "basic_result[\"_1_hospital_code\"] = '4224481'\n",
    "basic_result[\"_1_hospital_place_code\"] = '13'\n",
    "\n",
    "basic_result['_5_doctor_name_kanji'] = \"鈴木　次郎\"\n",
    "basic_result['_5_doctor_name_kana']=\"ｽｽﾞｷ ｼﾞﾛｳ\"\n",
    "\n",
    "#basic_result[\"id_11_patient_name_kanji\"] = \"松田　悠希\"\n",
    "#basic_result[\"id_11_patient_name_kana\"] = \"ﾏﾂﾀﾞ ﾕｳｷ\"\n",
    "basic_result[\"id_11_patient_name_kanji\"] = \"テスト患者\"\n",
    "basic_result[\"id_11_patient_name_kana\"] = \"テストカンジャ\"\n",
    "\n",
    "basic_result[\"id_12_patient_sex\"] ='1'\n",
    "\n",
    "basic_result['_13_patient_birthday'] = \"4070306\"\n",
    "#basic_result['_13_patient_birthday'] = \"02010101\"\n",
    "\n",
    "#basic_result[\"id_22_insurance_patient_num\"] = \"138271\"\n",
    "basic_result[\"id_22_insurance_patient_num\"] = \"000000\"\n",
    "\n",
    "basic_result[\"id_23_insurance_card_id\"] = \"27-18\"\n",
    "basic_result[\"id_23_insurance_card_num\"] = '9796'\n",
    "\n",
    "basic_result[\"_51_prescription_date\"] = \"5020729\""
   ]
  },
  {
   "cell_type": "code",
   "execution_count": 11,
   "metadata": {},
   "outputs": [],
   "source": [
    "#l_keys_med = ['RP番号','RP連番','剤形区分','調剤数量','用法名称','薬品名称','用量','単位名']\n",
    "\n",
    "l_1 = [1, 1,'-100','-1','用法未取得',['カルボシステイン錠 250mg'],'-1','錠']\n",
    "l_2 = [1, 2,'-100','-1','用法未取得',['アンブロキソール塩酸塩錠 15mg'],'3','錠']\n",
    "l_3 = [1, 3,'-100','-1','用法未取得',['フスコデ配合錠'],'3','錠']\n",
    "l_4 = [1, 4,'-100','14','分3 毎食後服用',['セフカペンピボキシル塩酸塩錠 100mg'],'3','錠']\n",
    "\n",
    "l_5 = [2, 1,'-100','-1','用法未取得',['ニフェジピン徐放錠 20mg(24時間持続)'],'2','錠']\n",
    "\n",
    "l_6 = [3, 1,'-100','1','1日1回 貼付',['ケトプロフェンテープ 40mg(10×14cm非温感)'],'-1','枚']\n",
    "\n",
    "l_tail = ['']*len(l_keys_med)"
   ]
  },
  {
   "cell_type": "code",
   "execution_count": 20,
   "metadata": {},
   "outputs": [],
   "source": [
    "#l_keys_med = ['RP番号','RP連番','剤形区分','調剤数量','用法名称','薬品名称','用量','単位名']\n",
    "\n",
    "l_1 = [1, 1,'-100','-1','用法未取得',['カルボシステイン錠 250mg'],'3','錠']\n",
    "l_2 = [1, 2,'-100','-1','用法未取得',['アンブロキソール塩酸塩錠 15mg'],'3','錠']\n",
    "l_3 = [1, 3,'-100','-1','用法未取得',['フスコデ配合錠'],'3','錠']\n",
    "l_4 = [1, 4,'-100','14','分3 毎食後服用',['セフカペンピボキシル塩酸塩錠 100mg'],'3','錠']\n",
    "\n",
    "l_5 = [2, 1,'-100','28','分2 朝・夕食後服用',['ニフェジピン徐放錠 20mg(24時間持続)'],'2','錠']\n",
    "\n",
    "l_6 = [3, 1,'-100','1','1日1回 貼付',['ケトプロフェンテープ 40mg(10×14cm非温感)'],'14','枚']\n",
    "\n",
    "l_tail = ['']*len(l_keys_med)"
   ]
  },
  {
   "cell_type": "code",
   "execution_count": 12,
   "metadata": {},
   "outputs": [],
   "source": [
    "ls = [l_1,l_2,l_3,l_4,l_5,l_6,l_tail]\n",
    "\n",
    "med_result = []\n",
    "for l in ls:\n",
    "    med_dict=dict(zip(l_keys_med,l))\n",
    "    med_result.append(med_dict)"
   ]
  },
  {
   "cell_type": "code",
   "execution_count": 13,
   "metadata": {},
   "outputs": [
    {
     "name": "stderr",
     "output_type": "stream",
     "text": [
      "/home/yukim/Desktop/prescription/make_qr.py:269: UserWarning: カルボシステイン錠 250mgwas not in DB and was changed to カルボシステイン錠250mg\n",
      "  warn(med_name+'was not in DB and was changed to '+changed_med_name)\n",
      "/home/yukim/Desktop/prescription/make_qr.py:269: UserWarning: アンブロキソール塩酸塩錠 15mgwas not in DB and was changed to アンブロキソール塩酸塩錠15mg\n",
      "  warn(med_name+'was not in DB and was changed to '+changed_med_name)\n",
      "/home/yukim/Desktop/prescription/make_qr.py:269: UserWarning: セフカペンピボキシル塩酸塩錠 100mgwas not in DB and was changed to セフカペンピボキシル塩酸塩錠100mg\n",
      "  warn(med_name+'was not in DB and was changed to '+changed_med_name)\n",
      "/home/yukim/Desktop/prescription/make_qr.py:269: UserWarning: ニフェジピン徐放錠 20mg(24時間持続)was not in DB and was changed to ニフェジピン徐放錠20mg(24時間持続)\n",
      "  warn(med_name+'was not in DB and was changed to '+changed_med_name)\n",
      "/home/yukim/Desktop/prescription/make_qr.py:269: UserWarning: ケトプロフェンテープ 40mg(10×14cm非温感)was not in DB and was changed to ケトプロフェンテープ40mg(10×14cm非温感)\n",
      "  warn(med_name+'was not in DB and was changed to '+changed_med_name)\n"
     ]
    },
    {
     "name": "stdout",
     "output_type": "stream",
     "text": [
      "result\n",
      "JAHIS3\r\n",
      "1,1,4224481,13,仙川駅前すずきクリニック\r\n",
      "5,,ｽｽﾞｷ ｼﾞﾛｳ,鈴木　次郎\r\n",
      "11,,テスト患者,テストカンジャ\r\n",
      "12,1\r\n",
      "13,02010101\r\n",
      "22,000000\r\n",
      "23,27-18,9796,1,\r\n",
      "51,5020729\r\n",
      "101,1,1,,14\r\n",
      "111,1,1,,分3 毎食後服用,\r\n",
      "201,1,1,,7,2233002F1ZZZ,カルボシステイン錠250mg,-1,1,錠\r\n",
      "201,1,2,,7,2239001F1ZZZ,アンブロキソール塩酸塩錠15mg,3,1,錠\r\n",
      "201,1,3,,2,620379601,フスコデ配合錠,3,1,錠\r\n",
      "201,1,4,,7,6132016F2ZZZ,セフカペンピボキシル塩酸塩錠100mg,3,1,錠\r\n",
      "101,2,1,,-1\r\n",
      "111,2,1,,用法未取得,\r\n",
      "201,2,1,,7,2171014G4ZZZ,ニフェジピン徐放錠20mg(24時間持続),2,1,錠\r\n",
      "101,3,3,,1\r\n",
      "111,3,1,,1日1回 貼付,\r\n",
      "201,3,1,,7,2649729S3ZZZ,ケトプロフェンテープ40mg(10×14cm非温感),-1,1,枚\r\n",
      "\n",
      "----------------\n",
      "b'JAHIS3\\r\\n1,1,4224481,13,\\x90\\xe5\\x90\\xec\\x89w\\x91O\\x82\\xb7\\x82\\xb8\\x82\\xab\\x83N\\x83\\x8a\\x83j\\x83b\\x83N\\r\\n5,,\\xbd\\xbd\\xde\\xb7 \\xbc\\xde\\xdb\\xb3,\\x97\\xe9\\x96\\xd8\\x81@\\x8e\\x9f\\x98Y\\r\\n11,,\\x83e\\x83X\\x83g\\x8a\\xb3\\x8e\\xd2,\\x83e\\x83X\\x83g\\x83J\\x83\\x93\\x83W\\x83\\x83\\r\\n12,1\\r\\n13,02010101\\r\\n22,000000\\r\\n23,27-18,9796,1,\\r\\n51,5020729\\r\\n101,1,1,,14\\r\\n111,1,1,,\\x95\\xaa3 \\x96\\x88\\x90H\\x8c\\xe3\\x95\\x9e\\x97p,\\r\\n201,1,1,,7,2233002F1ZZZ,\\x83J\\x83\\x8b\\x83{\\x83V\\x83X\\x83e\\x83C\\x83\\x93\\x8f\\xf9250mg,-1,1,\\x8f\\xf9\\r\\n201,1,2,,7,2239001F1ZZZ,\\x83A\\x83\\x93\\x83u\\x83\\x8d\\x83L\\x83\\\\\\x81[\\x83\\x8b\\x89\\x96\\x8e_\\x89\\x96\\x8f\\xf915mg,3,1,\\x8f\\xf9\\r\\n201,1,3,,2,620379601,\\x83t\\x83X\\x83R\\x83f\\x94z\\x8d\\x87\\x8f\\xf9,3,1,\\x8f\\xf9\\r\\n201,1,4,,7,6132016F2ZZZ,\\x83Z\\x83t\\x83J\\x83y\\x83\\x93\\x83s\\x83{\\x83L\\x83V\\x83\\x8b\\x89\\x96\\x8e_\\x89\\x96\\x8f\\xf9100mg,3,1,\\x8f\\xf9\\r\\n101,2,1,,-1\\r\\n111,2,1,,\\x97p\\x96@\\x96\\xa2\\x8e\\xe6\\x93\\xbe,\\r\\n201,2,1,,7,2171014G4ZZZ,\\x83j\\x83t\\x83F\\x83W\\x83s\\x83\\x93\\x8f\\x99\\x95\\xfa\\x8f\\xf920mg(24\\x8e\\x9e\\x8a\\xd4\\x8e\\x9d\\x91\\xb1),2,1,\\x8f\\xf9\\r\\n101,3,3,,1\\r\\n111,3,1,,1\\x93\\xfa1\\x89\\xf1 \\x93\\\\\\x95t,\\r\\n201,3,1,,7,2649729S3ZZZ,\\x83P\\x83g\\x83v\\x83\\x8d\\x83t\\x83F\\x83\\x93\\x83e\\x81[\\x83v40mg(10\\x81~14cm\\x94\\xf1\\x89\\xb7\\x8a\\xb4),-1,1,\\x96\\x87\\r\\n'\n"
     ]
    },
    {
     "data": {
      "image/png": "[encoded data removed]",
      "text/plain": [
       "<qrcode.image.pil.PilImage at 0x7f41882299e8>"
      ]
     },
     "execution_count": 13,
     "metadata": {},
     "output_type": "execute_result"
    }
   ],
   "source": [
    "make_qr.make_qrcode(basic_result,med_result,EOL = \"\\r\\n\",version=\"JAHIS3\",return_image=True)"
   ]
  },
  {
   "cell_type": "code",
   "execution_count": null,
   "metadata": {},
   "outputs": [],
   "source": []
  }
 ],
 "metadata": {
  "kernelspec": {
   "display_name": "Python 3",
   "language": "python",
   "name": "python3"
  },
  "language_info": {
   "codemirror_mode": {
    "name": "ipython",
    "version": 3
   },
   "file_extension": ".py",
   "mimetype": "text/x-python",
   "name": "python",
   "nbconvert_exporter": "python",
   "pygments_lexer": "ipython3",
   "version": "3.6.9"
  },
  "toc": {
   "base_numbering": 1,
   "nav_menu": {},
   "number_sections": true,
   "sideBar": true,
   "skip_h1_title": false,
   "title_cell": "Table of Contents",
   "title_sidebar": "Contents",
   "toc_cell": false,
   "toc_position": {},
   "toc_section_display": true,
   "toc_window_display": false
  }
 },
 "nbformat": 4,
 "nbformat_minor": 4
}
