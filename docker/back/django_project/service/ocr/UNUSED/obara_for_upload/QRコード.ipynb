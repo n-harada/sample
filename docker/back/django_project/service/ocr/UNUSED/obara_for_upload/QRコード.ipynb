{
 "cells": [
  {
   "cell_type": "code",
   "execution_count": 7,
   "metadata": {},
   "outputs": [
    {
     "data": {
      "image/png": "[encoded data removed]",
      "text/plain": [
       "<Figure size 432x288 with 1 Axes>"
      ]
     },
     "metadata": {
      "needs_background": "light"
     },
     "output_type": "display_data"
    }
   ],
   "source": [
    "import qrcode\n",
    "import matplotlib.pyplot as plt\n",
    "\n",
    "result_sj=\"asdfasdf\"\n",
    "qr = qrcode.QRCode(version=2,box_size=30)\n",
    "qr.add_data(result_sj)\n",
    "# qr.make()\n",
    "img = qr.make_image()\n",
    "plt.imshow(img)\n",
    "plt.show(img)"
   ]
  },
  {
   "cell_type": "code",
   "execution_count": null,
   "metadata": {},
   "outputs": [],
   "source": []
  }
 ],
 "metadata": {
  "kernelspec": {
   "display_name": "Python 3",
   "language": "python",
   "name": "python3"
  },
  "language_info": {
   "codemirror_mode": {
    "name": "ipython",
    "version": 3
   },
   "file_extension": ".py",
   "mimetype": "text/x-python",
   "name": "python",
   "nbconvert_exporter": "python",
   "pygments_lexer": "ipython3",
   "version": "3.6.9"
  }
 },
 "nbformat": 4,
 "nbformat_minor": 2
}
