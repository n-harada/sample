{
 "cells": [
  {
   "cell_type": "markdown",
   "metadata": {},
   "source": [
    "# 準備"
   ]
  },
  {
   "cell_type": "code",
   "execution_count": null,
   "metadata": {},
   "outputs": [],
   "source": [
    "import random\n",
    "from PIL import Image\n",
    "import matplotlib.pyplot as plt\n",
    "import numpy as np\n",
    "\n",
    "#Jupyterでインライン表示するための宣言\n",
    "%matplotlib inline \n",
    "import os\n",
    "import shutil\n",
    "from tqdm import tqdm\n",
    "import base64\n",
    "import json\n",
    "from requests import Request, Session\n",
    "from io import BytesIO\n",
    "from PIL import Image\n",
    "import pandas as pd\n",
    "import jaconv\n",
    "import re\n",
    "import cv2\n",
    "import numpy as np\n",
    "from symspellpy.symspellpy import SymSpell, Verbosity\n",
    "import pickle\n",
    "from pykakasi import kakasi\n",
    "import Levenshtein\n",
    "from collections import OrderedDict\n",
    "import itertools\n",
    "\n",
    "from statistics import mode\n",
    "import time"
   ]
  },
  {
   "cell_type": "markdown",
   "metadata": {},
   "source": [
    "# フォルダのPATHと読み取りたい画像番号を指定"
   ]
  },
  {
   "cell_type": "code",
   "execution_count": null,
   "metadata": {},
   "outputs": [],
   "source": [
    "input_dir=\"/Users/obara/Downloads/prescription_data_jpeg/\" #画像群が置いてあるフォルダを指定\n",
    "output_dir=\"/Users/obara/Downloads/prescription_data_jpeg_11/\"#選択した画像をおきたい場所を指定\n",
    "#番号を指定\n",
    "num_list=[28,119,137,143,149,162,179,193,273,338,384,399,453,462,483,486,489,531,546,683,709,711,727,728,787,798,909,985,1023,1515]"
   ]
  },
  {
   "cell_type": "markdown",
   "metadata": {},
   "source": [
    "# 実行部分"
   ]
  },
  {
   "cell_type": "code",
   "execution_count": 9,
   "metadata": {},
   "outputs": [],
   "source": [
    "#関数を定義\n",
    "def image_save(url):\n",
    "    img = cv2.imread(url)\n",
    "    #img = plt.imread(url)\n",
    "    img = cv2.cvtColor(img, cv2.COLOR_BGR2RGB)\n",
    "    #plt.imshow(img)\n",
    "    #input_image=img[start*img.shape[0]//n_part:goal*img.shape[0]//n_part ,0:img.shape[1]//2]\n",
    "    #plt.figure(figsize=[50,50])\n",
    "    #plt.imshow(input_image)\n",
    "    plt.imsave(output_dir+\"photo-\"+str(num)+\".jpeg\",img)\n",
    "    return"
   ]
  },
  {
   "cell_type": "code",
   "execution_count": 10,
   "metadata": {},
   "outputs": [
    {
     "name": "stderr",
     "output_type": "stream",
     "text": [
      "100%|██████████| 30/30 [00:26<00:00,  1.15it/s]\n"
     ]
    }
   ],
   "source": [
    "for num in tqdm(num_list):\n",
    "    url=input_dir+\"photo-\"+str(num)+\".jpeg\"\n",
    "    try:\n",
    "        image_save(url)\n",
    "    except:\n",
    "        pass"
   ]
  },
  {
   "cell_type": "code",
   "execution_count": null,
   "metadata": {},
   "outputs": [],
   "source": []
  }
 ],
 "metadata": {
  "kernelspec": {
   "display_name": "Python 3",
   "language": "python",
   "name": "python3"
  },
  "language_info": {
   "codemirror_mode": {
    "name": "ipython",
    "version": 3
   },
   "file_extension": ".py",
   "mimetype": "text/x-python",
   "name": "python",
   "nbconvert_exporter": "python",
   "pygments_lexer": "ipython3",
   "version": "3.6.9"
  }
 },
 "nbformat": 4,
 "nbformat_minor": 2
}
