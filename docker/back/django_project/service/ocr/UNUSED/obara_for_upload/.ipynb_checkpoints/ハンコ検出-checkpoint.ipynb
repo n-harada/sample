{
 "cells": [
  {
   "cell_type": "markdown",
   "metadata": {},
   "source": [
    "# 準備"
   ]
  },
  {
   "cell_type": "markdown",
   "metadata": {},
   "source": [
    "[【Python/OpenCV】赤・緑・青色の検出（HSV色空間）](https://algorithm.joho.info/programming/python/opencv-color-detection/)<br>\n",
    "[Python,OpenCVで二値画像から白と黒の面積比を算出](https://techtech-sorae.com/pythonopencv%E3%81%A7%E4%BA%8C%E5%80%A4%E7%94%BB%E5%83%8F%E3%81%8B%E3%82%89%E7%99%BD%E3%81%A8%E9%BB%92%E3%81%AE%E9%9D%A2%E7%A9%8D%E6%AF%94%E3%82%92%E7%AE%97%E5%87%BA/)"
   ]
  },
  {
   "cell_type": "code",
   "execution_count": 54,
   "metadata": {},
   "outputs": [],
   "source": [
    "#-*- coding:utf-8 -*-\n",
    "import cv2\n",
    "import numpy as np\n",
    "import matplotlib.pyplot as plt\n",
    "%matplotlib inline\n",
    "\n",
    "# 赤色の検出\n",
    "def detect_red_color(img_path):\n",
    "    # 入力画像の読み込み\n",
    "    img = cv2.imread(img_path)\n",
    "    # HSV色空間に変換\n",
    "    hsv = cv2.cvtColor(img, cv2.COLOR_BGR2HSV)\n",
    "\n",
    "    # 赤色のHSVの値域1\n",
    "    hsv_min = np.array([0,64,0])\n",
    "    hsv_max = np.array([30,255,255])\n",
    "    mask1 = cv2.inRange(hsv, hsv_min, hsv_max)\n",
    "\n",
    "    # 赤色のHSVの値域2\n",
    "    hsv_min = np.array([150,64,0])\n",
    "    hsv_max = np.array([179,255,255])\n",
    "    mask2 = cv2.inRange(hsv, hsv_min, hsv_max)\n",
    "\n",
    "    # 赤色領域のマスク（255：赤色、0：赤色以外）    \n",
    "    mask = mask1 + mask2\n",
    "\n",
    "    # マスキング処理\n",
    "    masked_img = cv2.bitwise_and(img, img, mask=mask)\n",
    "    \n",
    "#     masked_img = cv2.cvtColor(masked_img, cv2.COLOR_BGR2RGB)\n",
    "#     plt.imshow(masked_img)\n",
    "#     plt.show()\n",
    "    \n",
    "\n",
    "    return mask, masked_img,calc_black_whiteArea(mask)"
   ]
  },
  {
   "cell_type": "code",
   "execution_count": 63,
   "metadata": {},
   "outputs": [],
   "source": [
    "red_mask, red_masked_img,num = detect_red_color(\"/Users/obara/Downloads/image.png\")"
   ]
  },
  {
   "cell_type": "code",
   "execution_count": 64,
   "metadata": {},
   "outputs": [],
   "source": [
    "def calc_black_whiteArea(bw_image):\n",
    "    image_size = bw_image.size\n",
    "    whitePixels = cv2.countNonZero(bw_image)\n",
    "    blackPixels = bw_image.size - whitePixels\n",
    " \n",
    "    whiteAreaRatio = (whitePixels/image_size)*100#[%]\n",
    "    blackAreaRatio = (blackPixels/image_size)*100#[%]\n",
    "#     print(\"White Area [%] : \", whiteAreaRatio)\n",
    "#     print(\"Black Area [%] : \", blackAreaRatio)\n",
    "    return whitePixels/image_size"
   ]
  },
  {
   "cell_type": "code",
   "execution_count": 65,
   "metadata": {},
   "outputs": [
    {
     "data": {
      "text/plain": [
       "0.009878263072076494"
      ]
     },
     "execution_count": 65,
     "metadata": {},
     "output_type": "execute_result"
    }
   ],
   "source": [
    "calc_black_whiteArea(red_mask)"
   ]
  },
  {
   "cell_type": "code",
   "execution_count": 66,
   "metadata": {},
   "outputs": [
    {
     "name": "stdout",
     "output_type": "stream",
     "text": [
      "0.0\n",
      "------------------\n",
      "0.0\n",
      "------------------\n",
      "0.0006176586477535329\n",
      "------------------\n",
      "0.0007161403211695313\n",
      "------------------\n",
      "0.0006358565276453076\n",
      "------------------\n",
      "0.00031934477965210204\n",
      "------------------\n",
      "0.00022929099506094802\n",
      "------------------\n",
      "0.000731981981981982\n",
      "------------------\n",
      "0.0\n",
      "------------------\n",
      "0.0007307270734380709\n",
      "------------------\n",
      "0.007884403761504602\n",
      "あった！！！\n",
      "------------------\n",
      "0.0\n",
      "------------------\n",
      "0.00010169164043869773\n",
      "------------------\n",
      "0.00030856744211006464\n",
      "------------------\n",
      "4.691531785127844e-05\n",
      "------------------\n"
     ]
    }
   ],
   "source": [
    "import glob\n",
    "\n",
    "files = glob.glob(\"/Users/obara/Downloads/test/*\")\n",
    "for file in files:\n",
    "    print(detect_red_color(file)[2])\n",
    "    #print(detect_red_color(file)[2])\n",
    "    if detect_red_color(file)[2]>0.003:\n",
    "        print(\"あった！！！\")\n",
    "        #print(detect_red_color(file)[2])\n",
    "    print(\"------------------\")"
   ]
  },
  {
   "cell_type": "code",
   "execution_count": 46,
   "metadata": {},
   "outputs": [
    {
     "name": "stdout",
     "output_type": "stream",
     "text": [
      "/Users/obara/Downloads/test/____435のコピー9.jpg\n"
     ]
    },
    {
     "data": {
      "image/png": "[encoded data removed]",
      "text/plain": [
       "<Figure size 432x288 with 1 Axes>"
      ]
     },
     "metadata": {
      "needs_background": "light"
     },
     "output_type": "display_data"
    },
    {
     "name": "stdout",
     "output_type": "stream",
     "text": [
      "White Area [%] :  0.0\n",
      "Black Area [%] :  100.0\n",
      "---------------\n",
      "/Users/obara/Downloads/test/____435のコピー8.jpg\n"
     ]
    },
    {
     "data": {
      "image/png": "[encoded data removed]",
      "text/plain": [
       "<Figure size 432x288 with 1 Axes>"
      ]
     },
     "metadata": {
      "needs_background": "light"
     },
     "output_type": "display_data"
    },
    {
     "name": "stdout",
     "output_type": "stream",
     "text": [
      "White Area [%] :  0.0\n",
      "Black Area [%] :  100.0\n",
      "---------------\n",
      "/Users/obara/Downloads/test/____435のコピー11.jpg\n"
     ]
    },
    {
     "data": {
      "image/png": "[encoded data removed]",
      "text/plain": [
       "<Figure size 432x288 with 1 Axes>"
      ]
     },
     "metadata": {
      "needs_background": "light"
     },
     "output_type": "display_data"
    },
    {
     "name": "stdout",
     "output_type": "stream",
     "text": [
      "White Area [%] :  0.061765864775353285\n",
      "Black Area [%] :  99.93823413522465\n",
      "---------------\n",
      "/Users/obara/Downloads/test/____435.jpg\n"
     ]
    },
    {
     "data": {
      "image/png": "[encoded data removed]",
      "text/plain": [
       "<Figure size 432x288 with 1 Axes>"
      ]
     },
     "metadata": {
      "needs_background": "light"
     },
     "output_type": "display_data"
    },
    {
     "name": "stdout",
     "output_type": "stream",
     "text": [
      "White Area [%] :  0.07161403211695312\n",
      "Black Area [%] :  99.92838596788305\n",
      "---------------\n",
      "/Users/obara/Downloads/test/____435のコピー10.jpg\n"
     ]
    },
    {
     "data": {
      "image/png": "[encoded data removed]",
      "text/plain": [
       "<Figure size 432x288 with 1 Axes>"
      ]
     },
     "metadata": {
      "needs_background": "light"
     },
     "output_type": "display_data"
    },
    {
     "name": "stdout",
     "output_type": "stream",
     "text": [
      "White Area [%] :  0.06358565276453076\n",
      "Black Area [%] :  99.93641434723547\n",
      "---------------\n",
      "/Users/obara/Downloads/test/____435のコピー12.jpg\n"
     ]
    },
    {
     "data": {
      "image/png": "[encoded data removed]",
      "text/plain": [
       "<Figure size 432x288 with 1 Axes>"
      ]
     },
     "metadata": {
      "needs_background": "light"
     },
     "output_type": "display_data"
    },
    {
     "name": "stdout",
     "output_type": "stream",
     "text": [
      "White Area [%] :  0.031934477965210206\n",
      "Black Area [%] :  99.96806552203479\n",
      "---------------\n",
      "/Users/obara/Downloads/test/____435のコピー13.jpg\n"
     ]
    },
    {
     "data": {
      "image/png": "[encoded data removed]",
      "text/plain": [
       "<Figure size 432x288 with 1 Axes>"
      ]
     },
     "metadata": {
      "needs_background": "light"
     },
     "output_type": "display_data"
    },
    {
     "name": "stdout",
     "output_type": "stream",
     "text": [
      "White Area [%] :  0.022929099506094803\n",
      "Black Area [%] :  99.9770709004939\n",
      "---------------\n",
      "/Users/obara/Downloads/test/____435のコピー14.jpg\n"
     ]
    },
    {
     "data": {
      "image/png": "[encoded data removed]",
      "text/plain": [
       "<Figure size 432x288 with 1 Axes>"
      ]
     },
     "metadata": {
      "needs_background": "light"
     },
     "output_type": "display_data"
    },
    {
     "name": "stdout",
     "output_type": "stream",
     "text": [
      "White Area [%] :  0.0731981981981982\n",
      "Black Area [%] :  99.9268018018018\n",
      "---------------\n",
      "/Users/obara/Downloads/test/____435のコピー3.jpg\n"
     ]
    },
    {
     "data": {
      "image/png": "[encoded data removed]",
      "text/plain": [
       "<Figure size 432x288 with 1 Axes>"
      ]
     },
     "metadata": {
      "needs_background": "light"
     },
     "output_type": "display_data"
    },
    {
     "name": "stdout",
     "output_type": "stream",
     "text": [
      "White Area [%] :  0.0\n",
      "Black Area [%] :  100.0\n",
      "---------------\n",
      "/Users/obara/Downloads/test/____435のコピー2.jpg\n"
     ]
    },
    {
     "data": {
      "image/png": "[encoded data removed]",
      "text/plain": [
       "<Figure size 432x288 with 1 Axes>"
      ]
     },
     "metadata": {
      "needs_background": "light"
     },
     "output_type": "display_data"
    },
    {
     "name": "stdout",
     "output_type": "stream",
     "text": [
      "White Area [%] :  0.07307270734380708\n",
      "Black Area [%] :  99.9269272926562\n",
      "---------------\n",
      "/Users/obara/Downloads/test/____435のコピー6.jpg\n"
     ]
    },
    {
     "data": {
      "image/png": "[encoded data removed]",
      "text/plain": [
       "<Figure size 432x288 with 1 Axes>"
      ]
     },
     "metadata": {
      "needs_background": "light"
     },
     "output_type": "display_data"
    },
    {
     "name": "stdout",
     "output_type": "stream",
     "text": [
      "White Area [%] :  0.7884403761504603\n",
      "Black Area [%] :  99.21155962384954\n",
      "---------------\n",
      "/Users/obara/Downloads/test/____435のコピー7.jpg\n"
     ]
    },
    {
     "data": {
      "image/png": "[encoded data removed]",
      "text/plain": [
       "<Figure size 432x288 with 1 Axes>"
      ]
     },
     "metadata": {
      "needs_background": "light"
     },
     "output_type": "display_data"
    },
    {
     "name": "stdout",
     "output_type": "stream",
     "text": [
      "White Area [%] :  0.0\n",
      "Black Area [%] :  100.0\n",
      "---------------\n",
      "/Users/obara/Downloads/test/____435のコピー.jpg\n"
     ]
    },
    {
     "data": {
      "image/png": "[encoded data removed]",
      "text/plain": [
       "<Figure size 432x288 with 1 Axes>"
      ]
     },
     "metadata": {
      "needs_background": "light"
     },
     "output_type": "display_data"
    },
    {
     "name": "stdout",
     "output_type": "stream",
     "text": [
      "White Area [%] :  0.010169164043869774\n",
      "Black Area [%] :  99.98983083595613\n",
      "---------------\n",
      "/Users/obara/Downloads/test/____435のコピー5.jpg\n"
     ]
    },
    {
     "data": {
      "image/png": "[encoded data removed]",
      "text/plain": [
       "<Figure size 432x288 with 1 Axes>"
      ]
     },
     "metadata": {
      "needs_background": "light"
     },
     "output_type": "display_data"
    },
    {
     "name": "stdout",
     "output_type": "stream",
     "text": [
      "White Area [%] :  0.030856744211006464\n",
      "Black Area [%] :  99.96914325578899\n",
      "---------------\n",
      "/Users/obara/Downloads/test/____435のコピー4.jpg\n"
     ]
    },
    {
     "data": {
      "image/png": "[encoded data removed]",
      "text/plain": [
       "<Figure size 432x288 with 1 Axes>"
      ]
     },
     "metadata": {
      "needs_background": "light"
     },
     "output_type": "display_data"
    },
    {
     "name": "stdout",
     "output_type": "stream",
     "text": [
      "White Area [%] :  0.004691531785127844\n",
      "Black Area [%] :  99.99530846821487\n",
      "---------------\n"
     ]
    }
   ],
   "source": [
    "import glob\n",
    "\n",
    "files = glob.glob(\"/Users/obara/Downloads/test/*\")\n",
    "for file in files:\n",
    "    \n",
    "    print(file)\n",
    "    #detect_red_color(file)"
   ]
  },
  {
   "cell_type": "markdown",
   "metadata": {},
   "source": [
    "# 関数"
   ]
  },
  {
   "cell_type": "code",
   "execution_count": 45,
   "metadata": {},
   "outputs": [],
   "source": [
    "#------------------------------\n",
    "#輪郭を検出する。\n",
    "def waku_detection(img):\n",
    "    ''' \n",
    "    input:画像のarray\n",
    "    output:元の画像のarray,補正前の4隅の座標,補正前の横の長さ\n",
    "    '''\n",
    "    #画像をグレースケール化\n",
    "    img_gray = cv2.cvtColor(img, cv2.COLOR_RGB2GRAY)\n",
    "\n",
    "    #閾値を180にして2値化\n",
    "    threshold = 105\n",
    "    ret, img_thresh = cv2.threshold(img_gray, threshold, 255, cv2.THRESH_BINARY)\n",
    "\n",
    "    #輪郭を取り出している\n",
    "    img_1, contours, hierarchy = cv2.findContours(img_thresh , cv2.RETR_TREE, cv2.CHAIN_APPROX_SIMPLE)\n",
    "\n",
    "    #mensekiリストに輪郭を追加していっている。\n",
    "    menseki=[ ]\n",
    "\n",
    "    for i in range(0, len(contours)):\n",
    "        menseki.append([contours[i],cv2.contourArea(contours[i])])\n",
    "\n",
    "    menseki.sort(key=lambda x: x[1], reverse=True)\n",
    "\n",
    "    #一番面積が大きいものを取り出している。\n",
    "    cnt = menseki[0][0]\n",
    "\n",
    "    #輪郭のギザギザを無くしている\n",
    "    epsilon = 0.1*cv2.arcLength(cnt,True)\n",
    "    #approxに隅の四点の座標が入っている\n",
    "    approx = cv2.approxPolyDP(cnt,epsilon,True)\n",
    "\n",
    "    #ギザギザをなくした後の描画\n",
    "    #img3=cv2.drawContours(img, approx, 0,(0, 0, 255),10)\n",
    "\n",
    "    #輪郭の表をリストにして、順番を整理\n",
    "    approx=approx.tolist()\n",
    "\n",
    "    left = sorted(approx,key=lambda x:x[0]) [:2]\n",
    "    right = sorted(approx, key=lambda x: x[0])[2:]\n",
    "    \n",
    "    left_down= sorted(left,key=lambda x:x[0][1]) [0]\n",
    "    left_up= sorted(left,key=lambda x:x[0][1]) [1]\n",
    "\n",
    "    right_down= sorted(right,key=lambda x:x[0][1]) [0]\n",
    "    right_up= sorted(right,key=lambda x:x[0][1]) [1]\n",
    "\n",
    "    #補正前の角の座標\n",
    "    perspective1 = np.float32([left_down, right_down, right_up, left_up])\n",
    "    #補正後の横の長さ\n",
    "    width = right_down[0][0] - left_down[0][0]\n",
    "    return img,perspective1,width\n",
    "\n",
    "#------------------------------\n",
    "def yugami(image_array):\n",
    "    '''歪み補正\n",
    "    input:画像のPath\n",
    "    output:歪み補正した画像のarray\n",
    "    '''\n",
    "    #枠検出した結果をwaku_detection_resultに格納\n",
    "    waku_detection_result=waku_detection(image_array)\n",
    "    img = waku_detection_result[0]\n",
    "    perspective1 = waku_detection_result[1]\n",
    "    width = waku_detection_result[2]\n",
    "    #補正後の縦の長さ\n",
    "    height=width*2340//1654\n",
    "    \n",
    "    perspective2 = np.float32([[0, 0],[width, 0],[width, height],[0, height]])\n",
    "\n",
    "    #変換に必要な行列\n",
    "    psp_matrix = cv2.getPerspectiveTransform(perspective1,perspective2)\n",
    "    #変換後\n",
    "    #img_psp = cv2.warpPerspective(img, psp_matrix, (1654, 2340))\n",
    "    img_psp = cv2.warpPerspective(img, psp_matrix, (width, height))\n",
    "    return img_psp\n",
    "\n",
    "\n",
    "#------------------------------\n",
    "def path_to_array(img_path):\n",
    "    '''\n",
    "    画像pathを画像arrayに変換する\n",
    "    input:画像path\n",
    "    output:array\n",
    "    '''\n",
    "    img = cv2.imread(img_path)\n",
    "    img = cv2.cvtColor(img, cv2.COLOR_BGR2RGB)\n",
    "    return img"
   ]
  },
  {
   "cell_type": "code",
   "execution_count": null,
   "metadata": {},
   "outputs": [],
   "source": [
    "#関数を定義\n",
    "#input_dir=\"/Users/obara/Downloads/prescription_data_jpeg/\" #画像群が置いてあるフォルダを指定\n",
    "output_dir=\"/Users/obara/Downloads/test/\"#選択した画像をおきたい場所を指定\n",
    "\n",
    "def image_save(url):\n",
    "    img = cv2.imread(url)\n",
    "    img = cv2.cvtColor(img, cv2.COLOR_BGR2RGB)\n",
    "    plt.imsave(output_dir+\"photo-\"+str(num)+\".jpeg\",img)\n",
    "    return"
   ]
  },
  {
   "cell_type": "code",
   "execution_count": null,
   "metadata": {},
   "outputs": [],
   "source": [
    "num_list=[]\n",
    "for num in tqdm(num_list):\n",
    "    url=input_dir+\"photo-\"+str(num)+\".jpeg\"\n",
    "    try:\n",
    "        image_save(url)\n",
    "    except:\n",
    "        pass"
   ]
  }
 ],
 "metadata": {
  "kernelspec": {
   "display_name": "Python 3",
   "language": "python",
   "name": "python3"
  },
  "language_info": {
   "codemirror_mode": {
    "name": "ipython",
    "version": 3
   },
   "file_extension": ".py",
   "mimetype": "text/x-python",
   "name": "python",
   "nbconvert_exporter": "python",
   "pygments_lexer": "ipython3",
   "version": "3.6.9"
  }
 },
 "nbformat": 4,
 "nbformat_minor": 2
}
