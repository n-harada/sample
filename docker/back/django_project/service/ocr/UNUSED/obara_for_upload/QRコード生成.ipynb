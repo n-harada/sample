{
 "cells": [
  {
   "cell_type": "code",
   "execution_count": null,
   "metadata": {},
   "outputs": [],
   "source": [
    "from warnings import warn\n",
    "import Levenshtein as L\n",
    "import os\n",
    "import pandas as pd\n",
    "import pickle\n",
    "import re\n",
    "%matplotlib inline\n",
    "import matplotlib.pyplot as plt\n",
    "import qrcode\n",
    "import cv2"
   ]
  },
  {
   "cell_type": "code",
   "execution_count": null,
   "metadata": {},
   "outputs": [],
   "source": [
    "%config InlineBackend.figure_formats = {'png', 'retina'}"
   ]
  },
  {
   "cell_type": "code",
   "execution_count": null,
   "metadata": {},
   "outputs": [],
   "source": [
    "img = cv2.imread('./jahis.png')\n",
    "plt.figure(figsize=(10, 10))\n",
    "plt.imshow(img)\n",
    "plt.show()"
   ]
  },
  {
   "cell_type": "markdown",
   "metadata": {},
   "source": [
    "# 全部入っているパターン"
   ]
  },
  {
   "cell_type": "code",
   "execution_count": null,
   "metadata": {},
   "outputs": [],
   "source": [
    "hospital_code=\"1,4224481,13\"#(1,4224481,13)\n",
    "hospital_name=\"仙川駅前すずきクリニック\"\n",
    "doctor_name=\"鈴木　次郎\"\n",
    "name=\"松田　悠希\"\n",
    "name_kana=\"ﾏﾂﾀﾞ ﾕｳｷ\"\n",
    "gender=\"1\"\n",
    "birthday=\"4070306\"\n",
    "hoken_num=\"138271\"#22\n",
    "kigou_num=\"２７ー１８,9796,1\"#23 (２７ー１８,9796,1)\n",
    "delivery_number=\"5020729\"#51\n",
    "medicine='''101,1,1,,5\n",
    "111,1,1,,1日2回 朝・夕食後,\n",
    "201,1,1,,7,4413004F1ZZZ,メキタジン錠3mg,2,1,錠\n",
    "101,2,1,,5\n",
    "111,2,1,,1日1回朝食後,\n",
    "201,2,1,,2,610463120,トランサミン錠250mg,2,1,錠\n",
    "101,3,1,,5\n",
    "111,3,1,,1日1回朝食後,\n",
    "201,3,1,,2,612220036,アスベリン錠20 20mg,3,1,錠\n",
    "101,4,1,,5\n",
    "111,4,1,,頭痛時,\n",
    "201,4,1,,2,620002023,カロナール錠200 200mg,2,1,錠'''\n",
    "\n",
    "\n",
    "txt='JAHIS7\\n1,'+hospital_code+','+hospital_name+'\\n5,,,'+doctor_name+'\\n11,,'+name+','+name_kana+'\\n12,'+gender+'\\n13,'+birthday+'\\n22,'+hoken_num+'\\n23,'+kigou_num+',\\n51,'+delivery_number+'\\n'+medicine\n",
    "txt= txt.encode('shift_jis', 'replace')\n",
    "\n",
    "img = qrcode.make(txt)\n",
    "plt.gray()\n",
    "plt.imsave(\"test.jpeg\",img)\n",
    "#plt.figure(figsize=(10,10))\n",
    "plt.imshow(img)"
   ]
  },
  {
   "cell_type": "code",
   "execution_count": null,
   "metadata": {},
   "outputs": [],
   "source": [
    "txt"
   ]
  },
  {
   "cell_type": "markdown",
   "metadata": {},
   "source": [
    "# 空白パターン"
   ]
  },
  {
   "cell_type": "code",
   "execution_count": null,
   "metadata": {},
   "outputs": [],
   "source": [
    "hospital_code=\"1,4224481,13\"#(1,4224481,13)\n",
    "hospital_name=\"\"###空白\n",
    "doctor_name=\"\"###空白\n",
    "name=\"\"###空白\n",
    "name_kana=\"\"###空白\n",
    "gender=\"1\"\n",
    "birthday=\"4070306\"###空白\n",
    "hoken_num=\"138271\"#22\n",
    "kigou_num=\"２７ー１８,9796,1\"#23 (２７ー１８,9796,1)\n",
    "delivery_number=\"5020729\"#51\n",
    "medicine='''101,1,1,,5\n",
    "111,1,1,,1日2回 朝・夕食後,\n",
    "201,1,1,,7,4413004F1ZZZ,メキタジン錠3mg,2,1,錠\n",
    "101,2,1,,5\n",
    "111,2,1,,1日1回朝食後,\n",
    "201,2,1,,2,610463120,トランサミン錠250mg,2,1,錠\n",
    "101,3,1,,5\n",
    "111,3,1,,1日1回朝食後,\n",
    "201,3,1,,2,612220036,アスベリン錠20 20mg,3,1,錠\n",
    "101,4,1,,5\n",
    "111,4,1,,頭痛時,\n",
    "201,4,1,,2,620002023,カロナール錠200 200mg,2,1,錠'''\n",
    "\n",
    "\n",
    "txt='JAHIS7\\n1,'+hospital_code+','+hospital_name+'\\n5,,,'+doctor_name+'\\n11,,'+name+','+name_kana+'\\n12,'+gender+'\\n13,'+birthday+'\\n22,'+hoken_num+'\\n23,'+kigou_num+',\\n51,'+delivery_number+'\\n'+medicine\n",
    "txt= txt.encode('shift_jis', 'replace')\n",
    "\n",
    "img = qrcode.make(txt)\n",
    "plt.gray()\n",
    "plt.imsave(\"brank.jpeg\",img)\n",
    "#plt.figure(figsize=(10,10))\n",
    "plt.imshow(img)"
   ]
  },
  {
   "cell_type": "code",
   "execution_count": null,
   "metadata": {},
   "outputs": [],
   "source": [
    "txt"
   ]
  },
  {
   "cell_type": "markdown",
   "metadata": {},
   "source": [
    "# ダミー用"
   ]
  },
  {
   "cell_type": "code",
   "execution_count": null,
   "metadata": {
    "scrolled": true
   },
   "outputs": [],
   "source": [
    "hospital_code=\"1,,17\"#(1,4224481,13)\n",
    "hospital_name=\"テスト病院２０２００７２８\"#テスト病院20200728\n",
    "doctor_name=\"テスト医師　２０２００７２８\"#テスト医師　20200728\n",
    "name=\"テスト患者　２０２００７２８\"#テスト患者　20200728\n",
    "name_kana=\"ﾃｽﾄｶﾝｼﾞｬ 20200728\"#ﾃｽﾄｶﾝｼﾞｬ　20200728\n",
    "gender=\"1\"\n",
    "birthday=\"4050505\"\n",
    "hoken_num=\"138271\"#22\n",
    "kigou_num=\"２７ー１８,9796,1\"#23 (２７ー１８,9796,1)\n",
    "delivery_number=\"5020729\"#51\n",
    "medicine='''101,1,1,,5\n",
    "111,1,1,,ダミー用法＿内服,\n",
    "201,1,1,,7,4413004F1ZZZ,メキタジン錠3mg,2,1,錠\n",
    "101,2,1,,5\n",
    "111,2,1,,1日1回朝食後,\n",
    "201,2,1,,2,610463120,トランサミン錠250mg,2,1,錠\n",
    "101,3,1,,5\n",
    "111,3,1,,1日1回朝食後,\n",
    "201,3,1,,2,612220036,アスベリン錠20 20mg,3,1,錠\n",
    "101,4,1,,5\n",
    "111,4,1,,頭痛時,\n",
    "201,4,1,,2,620002023,カロナール錠200 200mg,2,1,錠'''\n",
    "#111,1,1,,ダミー用法_内服,\n",
    "\n",
    "txt='JAHIS7\\n1,'+hospital_code+','+hospital_name+'\\n5,,,'+doctor_name+'\\n11,,'+name+','+name_kana+'\\n12,'+gender+'\\n13,'+birthday+'\\n22,'+hoken_num+'\\n23,'+kigou_num+',\\n51,'+delivery_number+'\\n'+medicine\n",
    "txt= txt.encode('shift_jis', 'replace')\n",
    "\n",
    "img = qrcode.make(txt)\n",
    "plt.gray()\n",
    "plt.imsave(\"test_dummy.jpeg\",img)\n",
    "#plt.figure(figsize=(10,10))\n",
    "plt.imshow(img)"
   ]
  },
  {
   "cell_type": "code",
   "execution_count": null,
   "metadata": {},
   "outputs": [],
   "source": [
    "txt"
   ]
  },
  {
   "cell_type": "markdown",
   "metadata": {},
   "source": [
    "# 解像度をあげた場合"
   ]
  },
  {
   "cell_type": "code",
   "execution_count": null,
   "metadata": {},
   "outputs": [],
   "source": [
    "hospital_code=\"1,,17\"#(1,4224481,13)\n",
    "hospital_name=\"テスト病院２０２００７２８\"#テスト病院20200728\n",
    "doctor_name=\"テスト医師　２０２００７２８\"#テスト医師　20200728\n",
    "name=\"テスト患者　２０２００７２８\"#テスト患者　20200728\n",
    "name_kana=\"ﾃｽﾄｶﾝｼﾞｬ 20200728\"#ﾃｽﾄｶﾝｼﾞｬ　20200728\n",
    "gender=\"1\"\n",
    "birthday=\"4050505\"\n",
    "hoken_num=\"138271\"#22\n",
    "kigou_num=\"２７ー１８,9796,1\"#23 (２７ー１８,9796,1)\n",
    "delivery_number=\"5020729\"#51\n",
    "medicine='''101,1,1,,5\n",
    "111,1,1,,ダミー用法＿内服,\n",
    "201,1,1,,7,4413004F1ZZZ,メキタジン錠3mg,2,1,錠\n",
    "101,2,1,,5\n",
    "111,2,1,,1日1回朝食後,\n",
    "201,2,1,,2,610463120,トランサミン錠250mg,2,1,錠\n",
    "101,3,1,,5\n",
    "111,3,1,,1日1回朝食後,\n",
    "201,3,1,,2,612220036,アスベリン錠20 20mg,3,1,錠\n",
    "101,4,1,,5\n",
    "111,4,1,,頭痛時,\n",
    "201,4,1,,2,620002023,カロナール錠200 200mg,2,1,錠'''\n",
    "#111,1,1,,ダミー用法_内服,\n",
    "\n",
    "txt='JAHIS7\\n1,'+hospital_code+','+hospital_name+'\\n5,,,'+doctor_name+'\\n11,,'+name+','+name_kana+'\\n12,'+gender+'\\n13,'+birthday+'\\n22,'+hoken_num+'\\n23,'+kigou_num+',\\n51,'+delivery_number+'\\n'+medicine\n",
    "txt= txt.encode('shift_jis', 'replace')\n",
    "\n",
    "qr = qrcode.QRCode(box_size=50)\n",
    "qr.add_data(txt)\n",
    "qr.make()\n",
    "img = qr.make_image()\n",
    "plt.imshow(img)\n",
    "img.save('test_dummy.jpeg')\n",
    "\n",
    "# img = qr.make(txt)\n",
    "# plt.gray()\n",
    "# plt.imsave(\"test_dummy.jpeg\",img)\n",
    "# #plt.figure(figsize=(10,10))\n",
    "# plt.imshow(img)"
   ]
  },
  {
   "cell_type": "code",
   "execution_count": null,
   "metadata": {},
   "outputs": [],
   "source": []
  }
 ],
 "metadata": {
  "kernelspec": {
   "display_name": "Python 3",
   "language": "python",
   "name": "python3"
  },
  "language_info": {
   "codemirror_mode": {
    "name": "ipython",
    "version": 3
   },
   "file_extension": ".py",
   "mimetype": "text/x-python",
   "name": "python",
   "nbconvert_exporter": "python",
   "pygments_lexer": "ipython3",
   "version": "3.6.9"
  }
 },
 "nbformat": 4,
 "nbformat_minor": 2
}
